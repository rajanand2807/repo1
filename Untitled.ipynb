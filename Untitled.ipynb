{
 "cells": [
  {
   "cell_type": "code",
   "execution_count": 14,
   "id": "4606d1ef",
   "metadata": {},
   "outputs": [
    {
     "name": "stdout",
     "output_type": "stream",
     "text": [
      "Enter your choice [short,tall] tall\n",
      "What type of Neck it is [short neck,long neck]long neck \n",
      "Might be giraffe\n"
     ]
    }
   ],
   "source": [
    "ch=input(\"Enter your choice [short,tall] \")\n",
    "ch=ch.strip().lower()\n",
    "if ch==\"short\":\n",
    "    ch1=input(\"Is it squeak ? [yes,no]\")\n",
    "    ch1=ch1.strip().lower()\n",
    "    if ch1==\"yes\":\n",
    "        print(\"Might be a squirrel\")\n",
    "    elif ch1==\"no\":\n",
    "        print(\"Might be Rat\")\n",
    "    else:\n",
    "        print(\"Invalid option\")\n",
    "elif ch==\"tall\":\n",
    "    ch2=input(\"What type of Neck it is [short neck,long neck]\")\n",
    "    ch2=ch2.strip().lower()\n",
    "    if ch2==\"short neck\":\n",
    "        ch3=input(\"Is it [short nose,long nose]\")\n",
    "        ch3=ch3.strip().lower()\n",
    "        if ch3==\"short nose\":\n",
    "            ch4=input(\"Lives [on land, in water]\")\n",
    "            ch4=ch4.strip().lower()\n",
    "            if ch4==\"on land\":\n",
    "                print(\"Might be rhinoceros\")\n",
    "            elif ch4==\"in water\":\n",
    "                print(\"Might be hippo\")\n",
    "            else:\n",
    "                print(\"Invalid option\")\n",
    "        elif ch3==\"long nose\" :\n",
    "            print(\"It might an elephant\")\n",
    "        else:\n",
    "            print(\"Invalid option!\")\n",
    "    elif ch2==\"tall neck\":\n",
    "        ch5=input(\"Is it long nose [yes,no]\")\n",
    "        ch5=ch5.strip().lower()\n",
    "        if ch5==\"yes\":\n",
    "            print(\"Might be an elephant\")\n",
    "        elif ch5==\"no\":\n",
    "            print(\"Some other animal, check again\")\n",
    "        else:\n",
    "            print(\"Invalid option\")\n",
    "    elif ch2==\"long neck\":\n",
    "        print(\"Might be giraffe\")\n",
    "    else:\n",
    "        print(\"Invalid option!\")\n",
    "else:\n",
    "    print(\"Invalid option!\")"
   ]
  },
  {
   "cell_type": "code",
   "execution_count": 11,
   "id": "6ff178b5",
   "metadata": {},
   "outputs": [
    {
     "name": "stdout",
     "output_type": "stream",
     "text": [
      "8\n"
     ]
    }
   ],
   "source": [
    "lang=[\"java\",\"c\",\"C++\",\"ruby\",\"perl\",\"python\",\"go\",\"js\"]\n",
    "i=0\n",
    "while i<=len(lang):\n",
    "    print(f\"{lang[i].upper()} is awsome\")\n",
    "    i=i+1\n",
    "    "
   ]
  },
  {
   "cell_type": "code",
   "execution_count": 16,
   "id": "edad1cf2",
   "metadata": {},
   "outputs": [
    {
     "name": "stdout",
     "output_type": "stream",
     "text": [
      "num[i]1\n",
      "num[i]2\n",
      "num[i]3\n",
      "[1, 2, 3]\n"
     ]
    }
   ],
   "source": [
    "num=[]\n",
    "i=1\n",
    "while i<=3:\n",
    "    x=int(input(\"num[i]\"))\n",
    "    num.append(x)\n",
    "    i=i+1\n",
    "print(num)\n"
   ]
  },
  {
   "cell_type": "code",
   "execution_count": 10,
   "id": "df54e820",
   "metadata": {},
   "outputs": [
    {
     "ename": "SyntaxError",
     "evalue": "invalid syntax (2100684191.py, line 12)",
     "output_type": "error",
     "traceback": [
      "\u001b[1;36m  File \u001b[1;32m\"C:\\Users\\raj.anand\\AppData\\Local\\Temp\\ipykernel_7100\\2100684191.py\"\u001b[1;36m, line \u001b[1;32m12\u001b[0m\n\u001b[1;33m    if distance\u001b[0m\n\u001b[1;37m               ^\u001b[0m\n\u001b[1;31mSyntaxError\u001b[0m\u001b[1;31m:\u001b[0m invalid syntax\n"
     ]
    }
   ],
   "source": [
    "item=input(\"Enter the item: \")\n",
    "price=inputfloat(\"Enter price: \")\n",
    "Qty=int(input(\"Enter Quantity: \"))\n",
    "dis=int(input(\"Discount percent\"))\n",
    "amount=Qty*price\n",
    "dis_amt=amount-(dis/100)*amount\n",
    "gst=dis_amt*0.20\n",
    "final_amt=dis_amt+gst\n",
    "distance=int(input(\"Enter distance\"))\n",
    "if distance<=3:\n",
    "    total_amt=final_amt\n",
    "if distance\n"
   ]
  },
  {
   "cell_type": "code",
   "execution_count": 17,
   "id": "afb07de4",
   "metadata": {},
   "outputs": [
    {
     "name": "stdout",
     "output_type": "stream",
     "text": [
      "42\n"
     ]
    }
   ],
   "source": [
    "import random \n",
    "n=random.randint(1,100)\n",
    "print(n)"
   ]
  },
  {
   "cell_type": "code",
   "execution_count": 111,
   "id": "9d846faf",
   "metadata": {},
   "outputs": [
    {
     "name": "stdout",
     "output_type": "stream",
     "text": [
      "\t\t\t\t*****Welcome to Game*****\n",
      "\n",
      "\n",
      "Enter Your Choice 1- Single PLayer\n",
      " 2-Multiplayer1\n",
      "Enter your choice[rock,paper,scissor]········\n",
      "Now turn for second player\n",
      "Enter your choice[rock,paper,scissor]········\n",
      "Player 2 WIN!!\n"
     ]
    }
   ],
   "source": [
    "import random\n",
    "from getpass import getpass\n",
    "data=[\"rock\",\"paper\",\"scissor\"]\n",
    "print(\"\\t\\t\\t\\t*****Welcome to Game*****\\n\\n\")\n",
    "ch=int(input(\"Enter Your Choice 1- Single PLayer\\n 2-Multiplayer\"))\n",
    "if ch==1:\n",
    "    player1=getpass(\"Enter your choice[rock,paper,scissor]\").strip().lower()\n",
    "    print(\"Now turn for second player\")\n",
    "    player2=getpass(\"Enter your choice[rock,paper,scissor]\").strip().lower()\n",
    "    if (player1==\"rock\" and player2==\"scissor\") or (player1==\"scissor\" and player2==\"paper\") or (player1==\"paper\" and player2==\"rock\"):\n",
    "        print(\"Player 1 WIN!!\")\n",
    "    elif (player1==\"rock\" and player2==\"rock\") or (player1==\"scissor\" and player2==\"scissor\") or (player1==\"paper\" and player2==\"paper\"):\n",
    "        print(\"Play Again! Match Tied\")\n",
    "    else:\n",
    "        print(\"Player 2 WIN!!\")\n",
    "else:\n",
    "    player1=player1=getpass(\"Enter your choice[rock,paper,scissor]\").strip().lower()\n",
    "    print(\"Now turn for computer!!!\")\n",
    "    player2=random.choice(data)\n",
    "    if (player1==\"rock\" and player2==\"scissor\") or (player1==\"scissor\" and player2==\"paper\") or (player1==\"paper\" and player2==\"rock\"):\n",
    "        print(\"Player 1 WIN!!\")\n",
    "    elif (player1==\"rock\" and player2==\"rock\") or (player1==\"scissor\" and player2==\"scissor\") or (player1==\"paper\" and player2==\"paper\"):\n",
    "        print(\"Play Again! Match Tied\")\n",
    "    else:\n",
    "        print(\"Computer WIN!!\")"
   ]
  },
  {
   "cell_type": "code",
   "execution_count": null,
   "id": "326e536c",
   "metadata": {},
   "outputs": [],
   "source": [
    "import random \n",
    "n=[]\n",
    "x=int(input(\"how many numbers you need:\"))\n",
    "c=1\n",
    "while c<=x:\n",
    "    y=random.randint(1,100)\n",
    "    n.append(y)\n",
    "    c=+1\n",
    "print(n)"
   ]
  },
  {
   "cell_type": "code",
   "execution_count": 31,
   "id": "544808d2",
   "metadata": {},
   "outputs": [
    {
     "name": "stdout",
     "output_type": "stream",
     "text": [
      "------------------------------\n",
      "|   Amit   | 60.00% |\n",
      "|  Rohhit  | 74.67% |\n",
      "|  Naresh  | 71.00% |\n",
      "------------------------------\n"
     ]
    }
   ],
   "source": [
    "data=[\n",
    "    [\"Amit\",50,60,70],\n",
    "    [\"Rohhit\",89,90,45],\n",
    "    [\"Naresh\",67,56,90]\n",
    "]\n",
    "print(\"-\"*30)\n",
    "i=0\n",
    "while i<len(data):\n",
    "    item=data[i]\n",
    "    per=(item[1]+item[2]+item[3])/3\n",
    "    print(f\"|{item[0]:^10}| {per:.2f}% |\")\n",
    "    i=i+1\n",
    "print(\"-\"*30)"
   ]
  },
  {
   "cell_type": "code",
   "execution_count": 110,
   "id": "4dc38020",
   "metadata": {},
   "outputs": [
    {
     "name": "stdout",
     "output_type": "stream",
     "text": [
      "------------------------------------------------------------------\n",
      "|        Name        | Physics  |Chemistry |  Maths   |Percentage|\n",
      "------------------------------------------------------------------\n",
      "|    Sachin Yadav    |    60    |    70    |    80    |  70.00%  |\n",
      "|    Rajat Goyal     |    90    |    80    |    80    |  83.33%  |\n",
      "|   Kaushal Samot    |    80    |    80    |    70    |  76.67%  |\n",
      "|    Nidhi Sharma    |    80    |    70    |    90    |  80.00%  |\n",
      "|     Ravi Swami     |    80    |    90    |    90    |  86.67%  |\n",
      "|        Hema        |    67    |    45    |    65    |  59.00%  |\n",
      "|       Ashima       |    56    |    90    |    56    |  67.33%  |\n",
      "-----------------------------------------------------------------\n",
      "Highest in Percentage is= 86.67\n"
     ]
    }
   ],
   "source": [
    "import os\n",
    "os.system(\"clear\")\n",
    "result=[\n",
    "    [\"Name\",\"Physics\",\"Chemistry\",\"Maths\"],\n",
    "    [\"Sachin Yadav\",60,70,80],\n",
    "    [\"Rajat Goyal\",90,80,80],\n",
    "    [\"Kaushal Samot\",80,80,70],\n",
    "    [\"Nidhi Sharma\",80,70,90],\n",
    "    [\"Ravi Swami\",80,90,90],\n",
    "    [\"Hema\",67,45,65],\n",
    "    [\"Ashima\",56,90,56]\n",
    "]\n",
    "p=\"Percentage\"\n",
    "print(\"-\"*66)\n",
    "print(f\"|{result[0][0]:^20}|{result[0][1]:^10}|{result[0][2]:^10}|{result[0][3]:^10}|{p:^10}|\")\n",
    "print(\"-\"*66)\n",
    "rank=[]\n",
    "i=1\n",
    "while i<len(result):\n",
    "    item=result[i]\n",
    "    per=(item[1]+item[2]+item[3])/3\n",
    "    rank.append(per)\n",
    "    print(f\"|{item[0]:^20}|{item[1]:^10}|{item[2]:^10}|{item[3]:^10}|  {per:.2f}%  |\")\n",
    "    i=i+1\n",
    "print(\"-\"*65)\n",
    "\n",
    "print(f\"Highest in Percentage is= {max(rank):.2f}\")"
   ]
  },
  {
   "cell_type": "code",
   "execution_count": 5,
   "id": "abc513cb",
   "metadata": {},
   "outputs": [
    {
     "name": "stdout",
     "output_type": "stream",
     "text": [
      "10 9 8 7 6 5 4 3 2\n"
     ]
    }
   ],
   "source": [
    "print(*range(10,1,-1))"
   ]
  },
  {
   "cell_type": "code",
   "execution_count": 10,
   "id": "f7133f5e",
   "metadata": {},
   "outputs": [
    {
     "name": "stdout",
     "output_type": "stream",
     "text": [
      "**********\n",
      "*********\n",
      "********\n",
      "*******\n",
      "******\n",
      "*****\n",
      "****\n",
      "***\n",
      "**\n",
      "*\n"
     ]
    }
   ],
   "source": [
    "for i in range(10,0,-1):\n",
    "    print(\"*\"*i)"
   ]
  },
  {
   "cell_type": "code",
   "execution_count": 11,
   "id": "00625958",
   "metadata": {},
   "outputs": [
    {
     "name": "stdout",
     "output_type": "stream",
     "text": [
      "*\n",
      "**\n",
      "***\n",
      "****\n",
      "*****\n",
      "******\n",
      "*******\n",
      "********\n",
      "*********\n"
     ]
    }
   ],
   "source": [
    "for i in range(1,10):\n",
    "    print(\"*\"*i)"
   ]
  },
  {
   "cell_type": "code",
   "execution_count": 36,
   "id": "b340442e",
   "metadata": {},
   "outputs": [
    {
     "name": "stdout",
     "output_type": "stream",
     "text": [
      "5 5 5 5 5 \n",
      "\n",
      "4 4 4 4 \n",
      "\n",
      "3 3 3 \n",
      "\n",
      "2 2 \n",
      "\n",
      "1 \n",
      "\n"
     ]
    }
   ],
   "source": [
    "for j in range(5,0,-1):\n",
    "    for i in range(j,0,-1):\n",
    "        print(j,end=\" \")\n",
    "    print(\"\\n\")"
   ]
  },
  {
   "cell_type": "code",
   "execution_count": 58,
   "id": "65c9c6d1",
   "metadata": {},
   "outputs": [
    {
     "name": "stdout",
     "output_type": "stream",
     "text": [
      "15 is the total vowels in string\n"
     ]
    }
   ],
   "source": [
    "str=\"This code tells you total number of Wovels in string\"\n",
    "count=0\n",
    "for i in range(0,len(str)):\n",
    "    if str[i].lower() in ['a','e','i','o','u']:\n",
    "        count=count+1\n",
    "print(f\"{count} is the total vowels in string\")\n",
    "    \n",
    "    "
   ]
  },
  {
   "cell_type": "code",
   "execution_count": 68,
   "id": "f9d530f8",
   "metadata": {},
   "outputs": [
    {
     "name": "stdout",
     "output_type": "stream",
     "text": [
      "total character of given string: 11 \n",
      "the total number of words : 2\n",
      "The total spaces in given string: 1\n"
     ]
    }
   ],
   "source": [
    "count=0\n",
    "str=\"Hello World\"\n",
    "print(f\"total character of given string: {len(str)} \")\n",
    "nstr=str.split()\n",
    "print(f\"the total number of words : {len(nstr)}\")\n",
    "for i in range(0,len(str)):\n",
    "    if str[i]==\" \":\n",
    "        count=count+1\n",
    "print(f\"The total spaces in given string: {count}\")"
   ]
  },
  {
   "cell_type": "code",
   "execution_count": 75,
   "id": "ccb5ff35",
   "metadata": {},
   "outputs": [
    {
     "name": "stdout",
     "output_type": "stream",
     "text": [
      "[[3, 5, 7], [3, 6, 8]]\n"
     ]
    }
   ],
   "source": [
    "from pprint import pprint\n",
    "X=[[1,2,3],\n",
    "    [2,4,5]]\n",
    "Y=[ [2,3,4],\n",
    "    [1,2,3]]\n",
    "Z=[[0,0,0],\n",
    "    [0,0,0]]\n",
    "for j in range(len(X)):\n",
    "    for i in range(len(X[0])):\n",
    "        Z[j][i]=X[j][i]+Y[j][i]\n",
    "pprint(Z)"
   ]
  },
  {
   "cell_type": "code",
   "execution_count": 96,
   "id": "77d2e795",
   "metadata": {},
   "outputs": [
    {
     "ename": "KeyboardInterrupt",
     "evalue": "",
     "output_type": "error",
     "traceback": [
      "\u001b[1;31m---------------------------------------------------------------------------\u001b[0m",
      "\u001b[1;31mKeyboardInterrupt\u001b[0m                         Traceback (most recent call last)",
      "\u001b[1;32m~\\AppData\\Local\\Temp\\ipykernel_6748\\1447049968.py\u001b[0m in \u001b[0;36m<module>\u001b[1;34m\u001b[0m\n\u001b[0;32m      4\u001b[0m     \u001b[1;32mwhile\u001b[0m \u001b[0mn\u001b[0m\u001b[1;33m>\u001b[0m\u001b[1;36m0\u001b[0m\u001b[1;33m:\u001b[0m\u001b[1;33m\u001b[0m\u001b[1;33m\u001b[0m\u001b[0m\n\u001b[0;32m      5\u001b[0m         \u001b[0mr\u001b[0m\u001b[1;33m=\u001b[0m\u001b[0mn\u001b[0m\u001b[1;33m%\u001b[0m\u001b[1;36m10\u001b[0m\u001b[1;33m\u001b[0m\u001b[1;33m\u001b[0m\u001b[0m\n\u001b[1;32m----> 6\u001b[1;33m         \u001b[0mt\u001b[0m\u001b[1;33m=\u001b[0m\u001b[0mt\u001b[0m\u001b[1;33m+\u001b[0m\u001b[0mr\u001b[0m\u001b[1;33m\u001b[0m\u001b[1;33m\u001b[0m\u001b[0m\n\u001b[0m\u001b[0;32m      7\u001b[0m         \u001b[0mn\u001b[0m\u001b[1;33m=\u001b[0m\u001b[0mn\u001b[0m\u001b[1;33m//\u001b[0m\u001b[1;36m10\u001b[0m\u001b[1;33m\u001b[0m\u001b[1;33m\u001b[0m\u001b[0m\n\u001b[0;32m      8\u001b[0m     \u001b[1;32mif\u001b[0m\u001b[1;33m(\u001b[0m\u001b[0mt\u001b[0m\u001b[1;33m>\u001b[0m\u001b[1;36m1\u001b[0m\u001b[1;33m)\u001b[0m\u001b[1;33m:\u001b[0m\u001b[1;33m\u001b[0m\u001b[1;33m\u001b[0m\u001b[0m\n",
      "\u001b[1;31mKeyboardInterrupt\u001b[0m: "
     ]
    }
   ],
   "source": [
    "n=281\n",
    "t=0\n",
    "while 1:\n",
    "    while n>0:\n",
    "        r=n%10\n",
    "        t=t+r\n",
    "        n=n//10\n",
    "    if(t>1):\n",
    "        n=t\n",
    "        continue\n",
    "    else :\n",
    "        break\n",
    "print(t)\n",
    "    "
   ]
  },
  {
   "cell_type": "code",
   "execution_count": 6,
   "id": "a8f48854",
   "metadata": {},
   "outputs": [
    {
     "name": "stdout",
     "output_type": "stream",
     "text": [
      "Enter Year1200\n",
      "Enter the year between 1900 and 100000\n"
     ]
    }
   ],
   "source": [
    "def leap(year):\n",
    "    if year%4==0:\n",
    "        return(\"True\")\n",
    "    else:\n",
    "        return(\"False\")\n",
    "while (True):\n",
    "    yr=int(input(\"Enter Year\"))\n",
    "    if yr<=1900 or yr>=100000:\n",
    "        print(\"Enter the year between 1900 and 100000\")\n",
    "        break\n",
    "    else:\n",
    "        y=leap(yr)\n",
    "        print(f\"This year is leap Year {yr} {y}\")\n",
    "        continue\n",
    "    "
   ]
  },
  {
   "cell_type": "code",
   "execution_count": 21,
   "id": "53ac86fc",
   "metadata": {},
   "outputs": [
    {
     "name": "stdout",
     "output_type": "stream",
     "text": [
      "Enter Roll Number1\n",
      "Enter NameAmit\n",
      "Enter Physics Marks54\n",
      "Enter Chemistry Marks78\n",
      "Enter Maths Marks98\n",
      "Enter Roll Number2\n",
      "Enter NameRahul\n",
      "Enter Physics Marks67\n",
      "Enter Chemistry Marks78\n",
      "Enter Maths Marks56\n",
      "Enter Roll Number2\n",
      "Enter Nameyyuy\n",
      "Enter Physics Marks67\n",
      "Enter Chemistry Marks89\n",
      "Enter Maths Marks78\n",
      "Enter Roll Number1\n",
      "Enter Namejkj\n",
      "Enter Physics Marks66\n",
      "Enter Chemistry Marks55\n",
      "Enter Maths Marks44\n",
      "{'Roll': [], 'Name': ['Amit', 'Rahul', 'yyuy', 'jkj'], 'Physics': [54, 67, 67, 66], 'Chemistry': [78, 78, 89, 55], 'Maths': [98, 56, 78, 44]}\n"
     ]
    }
   ],
   "source": [
    "dic={\"Roll\":[],\"Name\":[],\"Physics\":[],\"Chemistry\":[],\"Maths\":[]}\n",
    "i=0\n",
    "while i<=3:\n",
    "    hjh\n",
    "    for j in dic[\"Roll\"]:\n",
    "        if roll==j:\n",
    "            print(\"Roll Number Already Entered\")\n",
    "            break\n",
    "            \n",
    "        else:\n",
    "            dic[\"Roll\"].append(roll)\n",
    "    nm=input(\"Enter Name\")\n",
    "    dic[\"Name\"].append(nm)\n",
    "    phy=int(input(\"Enter Physics Marks\"))\n",
    "    dic[\"Physics\"].append(phy)\n",
    "    che=int(input(\"Enter Chemistry Marks\"))\n",
    "    dic[\"Chemistry\"].append(che)\n",
    "    math=int(input(\"Enter Maths Marks\"))\n",
    "    dic[\"Maths\"].append(math)\n",
    "    i=i+1\n",
    "print(dic)\n",
    "    "
   ]
  },
  {
   "cell_type": "code",
   "execution_count": null,
   "id": "8e71adae",
   "metadata": {},
   "outputs": [],
   "source": []
  },
  {
   "cell_type": "code",
   "execution_count": 17,
   "id": "86595626",
   "metadata": {},
   "outputs": [
    {
     "name": "stdout",
     "output_type": "stream",
     "text": [
      "1\n",
      "3\n",
      "4\n",
      "5\n",
      "[None, None, None, None]\n"
     ]
    }
   ],
   "source": [
    "x=[1,3,4,5]\n",
    "ls = [ print(i) for i in x ]\n",
    "print(ls)"
   ]
  },
  {
   "cell_type": "code",
   "execution_count": 21,
   "id": "0f80bd2f",
   "metadata": {},
   "outputs": [
    {
     "name": "stdout",
     "output_type": "stream",
     "text": [
      "1\n",
      "2\n",
      "3\n",
      "4\n",
      "5\n",
      "hello\n"
     ]
    }
   ],
   "source": [
    "ls=[1,2,3,4,5,\"hello\"]\n",
    "for i in ls:\n",
    "    print(i)"
   ]
  },
  {
   "cell_type": "code",
   "execution_count": 25,
   "id": "e382b8fb",
   "metadata": {},
   "outputs": [
    {
     "name": "stdout",
     "output_type": "stream",
     "text": [
      "enter number5\n",
      "enter number7\n",
      "enter number3\n",
      "enter number6\n",
      "enter number6\n",
      "[5, 7, 3, 6]\n"
     ]
    }
   ],
   "source": [
    "ls=[]\n",
    "while(1):\n",
    "    x=int(input(\"enter number\"))\n",
    "    if x in ls:\n",
    "        break\n",
    "    else:\n",
    "        ls.append(x)\n",
    "        continue\n",
    "print(ls)"
   ]
  },
  {
   "cell_type": "code",
   "execution_count": 26,
   "id": "d06dea0a",
   "metadata": {},
   "outputs": [
    {
     "data": {
      "text/plain": [
       "[1, 4, 9, 16, 25, 36, 49, 64, 81]"
      ]
     },
     "execution_count": 26,
     "metadata": {},
     "output_type": "execute_result"
    }
   ],
   "source": [
    "[x*x for x in range(1,10)]"
   ]
  },
  {
   "cell_type": "code",
   "execution_count": 27,
   "id": "be0ade61",
   "metadata": {},
   "outputs": [
    {
     "name": "stdout",
     "output_type": "stream",
     "text": [
      "[3, 6, 8, 10]\n"
     ]
    }
   ],
   "source": [
    "x=[1,3,4,5]\n",
    "y=[2,3,4,5]\n",
    "r=[]\n",
    "for v1,v2 in zip(x,y):\n",
    "    r.append(v1+v2)\n",
    "print(r)"
   ]
  },
  {
   "cell_type": "code",
   "execution_count": 48,
   "id": "f50b87f3",
   "metadata": {},
   "outputs": [
    {
     "name": "stdout",
     "output_type": "stream",
     "text": [
      "            Result            \n",
      "------------------------------\n",
      "|Raj Aand  |    99    |  90  |\n",
      "------------------------------\n",
      "|Rahul     |    49    |  67  |\n",
      "------------------------------\n",
      "|Amit      |    88    |  38  |\n",
      "------------------------------\n"
     ]
    }
   ],
   "source": [
    "name=[\"Raj Aand\",\"Rahul\",\"Amit\"]\n",
    "math=[99,49,88]\n",
    "english=[90,67,38]\n",
    "r=\"Result\"\n",
    "print(f\"{r:^30}\")\n",
    "print(\"-\"*30)\n",
    "\n",
    "for n,m,e in zip(name,math,english):\n",
    "    print(f\"|{n:<10}|{m:^10}|  {e}  |\")\n",
    "    print(\"-\"*30)\n",
    "          "
   ]
  },
  {
   "cell_type": "code",
   "execution_count": 55,
   "id": "309505da",
   "metadata": {},
   "outputs": [],
   "source": [
    "def hello(name):\n",
    "    \"\"\"\n",
    "     this function accept the user name and print the name that you enter\n",
    "    \"\"\"\n",
    "    print(f\"Hello! {name}\")\n"
   ]
  },
  {
   "cell_type": "code",
   "execution_count": 54,
   "id": "77cd5109",
   "metadata": {},
   "outputs": [
    {
     "name": "stdout",
     "output_type": "stream",
     "text": [
      "\n",
      "     this function accept the user name and print the name that you enter\n",
      "    \n",
      "Help on function hello in module __main__:\n",
      "\n",
      "hello(name)\n",
      "    this function accept the user name and print the name that you enter\n",
      "\n"
     ]
    }
   ],
   "source": [
    "print(hello.__doc__)\n",
    "help(hello)"
   ]
  },
  {
   "cell_type": "code",
   "execution_count": 56,
   "id": "06431737",
   "metadata": {},
   "outputs": [
    {
     "name": "stdout",
     "output_type": "stream",
     "text": [
      "Enter Name: Rahul Namdeo\n",
      "Hello! Rahul Namdeo\n"
     ]
    }
   ],
   "source": [
    "x=input(\"Enter Name: \")\n",
    "hello(x)"
   ]
  },
  {
   "cell_type": "code",
   "execution_count": 63,
   "id": "f585f42a",
   "metadata": {},
   "outputs": [],
   "source": [
    "def add(a,b):\n",
    "    \"\"\"\n",
    "    This function will add the number\n",
    "    \"\"\"\n",
    "    c=a+b\n",
    "    return(c)"
   ]
  },
  {
   "cell_type": "code",
   "execution_count": 62,
   "id": "912abe23",
   "metadata": {},
   "outputs": [
    {
     "name": "stdout",
     "output_type": "stream",
     "text": [
      "Enter Number1:90\n",
      "Enter Number2:90\n",
      "The sum of the numbers are 180\n",
      "Help on function add in module __main__:\n",
      "\n",
      "add(a, b)\n",
      "\n"
     ]
    }
   ],
   "source": [
    "x=int(input(\"Enter Number1:\"))\n",
    "y=int(input(\"Enter Number2:\"))\n",
    "z=add(x,y)\n",
    "print(f\"The sum of the numbers are {z}\")\n",
    "help(add)\n"
   ]
  },
  {
   "cell_type": "code",
   "execution_count": 74,
   "id": "78d8ae86",
   "metadata": {},
   "outputs": [
    {
     "name": "stdout",
     "output_type": "stream",
     "text": [
      "\n",
      "\n",
      "1 \n",
      "\n",
      "1 2 \n",
      "\n",
      "1 2 3 \n",
      "\n",
      "1 2 3 4 \n",
      "\n",
      "1 2 3 4 5 \n",
      "\n"
     ]
    }
   ],
   "source": [
    "for j in range(1,7):\n",
    "    for i in range(1,j):\n",
    "        print(i,end=\" \")\n",
    "    print(\"\\n\")"
   ]
  },
  {
   "cell_type": "code",
   "execution_count": 78,
   "id": "ddf92a73",
   "metadata": {},
   "outputs": [
    {
     "name": "stdout",
     "output_type": "stream",
     "text": [
      "Enter Number100\n",
      "Total of entered number:  5050\n"
     ]
    }
   ],
   "source": [
    "n=int(input(\"Enter Number\"))\n",
    "total=0\n",
    "for i in range(1,n+1):\n",
    "    total=total+i\n",
    "print(\"Total of entered number: \",total)"
   ]
  },
  {
   "cell_type": "code",
   "execution_count": 98,
   "id": "14d80f6e",
   "metadata": {
    "scrolled": true
   },
   "outputs": [
    {
     "name": "stdout",
     "output_type": "stream",
     "text": [
      "Enter Number100\n",
      "100*1=100\n",
      "100*2=200\n",
      "100*3=300\n",
      "100*4=400\n",
      "100*5=500\n",
      "100*6=600\n",
      "100*7=700\n",
      "100*8=800\n",
      "100*9=900\n",
      "100*10=1000\n"
     ]
    }
   ],
   "source": [
    "n=int(input(\"Enter Number\"))\n",
    "for i in range(1,11):\n",
    "    print(f\"{n}*{i}={n*i}\")"
   ]
  },
  {
   "cell_type": "code",
   "execution_count": 96,
   "id": "61e28244",
   "metadata": {},
   "outputs": [
    {
     "name": "stdout",
     "output_type": "stream",
     "text": [
      "10 67 56 90 23 78 89 "
     ]
    }
   ],
   "source": [
    "ls=[10,67,56,90,23,78,89]\n",
    "for i in ls:\n",
    "    print(i,end=\" \")"
   ]
  },
  {
   "cell_type": "code",
   "execution_count": 88,
   "id": "7dc55c32",
   "metadata": {},
   "outputs": [
    {
     "name": "stdout",
     "output_type": "stream",
     "text": [
      "5 4 3 2 1 \n",
      "\n",
      "4 3 2 1 \n",
      "\n",
      "3 2 1 \n",
      "\n",
      "2 1 \n",
      "\n",
      "1 \n",
      "\n"
     ]
    }
   ],
   "source": [
    "for j in range(5,0,-1):\n",
    "    for i in range(j,0,-1):\n",
    "        print(i,end=\" \")\n",
    "    print(\"\\n\")"
   ]
  },
  {
   "cell_type": "code",
   "execution_count": 90,
   "id": "e02b2219",
   "metadata": {},
   "outputs": [
    {
     "name": "stdout",
     "output_type": "stream",
     "text": [
      "25 14 90 267 67 89 "
     ]
    }
   ],
   "source": [
    "ls=[89,67,267,90,14,25]\n",
    "ls1=reversed(ls)\n",
    "for i in ls1:\n",
    "    print(i,end=\" \")"
   ]
  },
  {
   "cell_type": "code",
   "execution_count": 94,
   "id": "676e8164",
   "metadata": {},
   "outputs": [
    {
     "name": "stdout",
     "output_type": "stream",
     "text": [
      "-10 -9 -8 -7 -6 -5 -4 -3 -2 -1 "
     ]
    }
   ],
   "source": [
    "for i in range(-10,0):\n",
    "    print(i,end=\" \")"
   ]
  },
  {
   "cell_type": "code",
   "execution_count": 107,
   "id": "544c67c3",
   "metadata": {},
   "outputs": [
    {
     "name": "stdout",
     "output_type": "stream",
     "text": [
      "Enter StringRaj Anand\n",
      "R A d "
     ]
    }
   ],
   "source": [
    "str=input(\"Enter String\")\n",
    "print(str[0],end=\" \")\n",
    "print(str[len(str)//2],end=\" \")\n",
    "print(str[-1],end=\" \")"
   ]
  },
  {
   "cell_type": "code",
   "execution_count": 119,
   "id": "88e0cea8",
   "metadata": {},
   "outputs": [
    {
     "name": "stdout",
     "output_type": "stream",
     "text": [
      "                    1 \n",
      "\n",
      "                    1 2 3 2 1 3 \n",
      "\n",
      "                    1 2 3 2 1 3 4 3 2 1 4 5 4 3 2 1 5 \n",
      "\n",
      "                    1 2 3 2 1 3 4 3 2 1 4 5 4 3 2 1 5 6 5 4 3 2 1 6 7 6 5 4 3 2 1 7 \n",
      "\n"
     ]
    }
   ],
   "source": [
    "gap=10\n",
    "for j in range(2,10,2):\n",
    "    for g in range(0,gap):\n",
    "        print(\" \",end=\" \")\n",
    "    for i in range(1,j):\n",
    "        if i>2:\n",
    "            for k in range(i,0,-1):\n",
    "                print(k,end=\" \")\n",
    "        print(i,end=\" \")\n",
    "    print(\"\\n\")\n",
    "    g=g-1\n",
    "\n"
   ]
  },
  {
   "cell_type": "code",
   "execution_count": 6,
   "id": "49fa7bbe",
   "metadata": {},
   "outputs": [],
   "source": [
    "def is_leap(year):\n",
    "    \"\"\"\n",
    "       this function return the year is leap year or not\n",
    "    \"\"\"\n",
    "    if year%4==0:\n",
    "        return(\"Leap Year\")\n",
    "    else:\n",
    "        return(\"Not Leap Year\")"
   ]
  },
  {
   "cell_type": "code",
   "execution_count": 8,
   "id": "ee821180",
   "metadata": {},
   "outputs": [
    {
     "name": "stdout",
     "output_type": "stream",
     "text": [
      "Enter Year2004\n",
      "Leap Year\n"
     ]
    }
   ],
   "source": [
    "yr=int(input(\"Enter Year\"))\n",
    "ans=is_leap(yr)\n",
    "print(ans)"
   ]
  },
  {
   "cell_type": "code",
   "execution_count": 28,
   "id": "86af5c68",
   "metadata": {},
   "outputs": [],
   "source": [
    "def func(x,*arg,y=20,**ags):\n",
    "    print(x)\n",
    "    print(f\"Second parameter {arg}\")\n",
    "    print(y)\n",
    "    print(\"last parameter\",**ags)"
   ]
  },
  {
   "cell_type": "code",
   "execution_count": 29,
   "id": "907e2926",
   "metadata": {},
   "outputs": [
    {
     "name": "stdout",
     "output_type": "stream",
     "text": [
      "10\n",
      "Second parameter ()\n",
      "20\n",
      "last parameter\n"
     ]
    }
   ],
   "source": [
    "x=10\n",
    "func(x)"
   ]
  },
  {
   "cell_type": "code",
   "execution_count": 30,
   "id": "e9849330",
   "metadata": {},
   "outputs": [],
   "source": [
    "def reverse(string):\n",
    "    print(string[::-1])\n",
    "    "
   ]
  },
  {
   "cell_type": "code",
   "execution_count": null,
   "id": "4ebaf8d9",
   "metadata": {},
   "outputs": [],
   "source": [
    "x=input(\"enter string\")\n",
    "reverse(x)\n",
    "print(x)"
   ]
  },
  {
   "cell_type": "code",
   "execution_count": 30,
   "id": "71f238b7",
   "metadata": {},
   "outputs": [],
   "source": [
    "class Add:\n",
    "    def addition(self,x,y):\n",
    "        z=x+y\n",
    "        avg=z/2\n",
    "        return(z)\n",
    "    def avg(self,x,y):\n",
    "        return((x+y)/2)\n",
    "    "
   ]
  },
  {
   "cell_type": "code",
   "execution_count": 31,
   "id": "c84542be",
   "metadata": {},
   "outputs": [
    {
     "name": "stdout",
     "output_type": "stream",
     "text": [
      "9\n",
      "4.5\n"
     ]
    }
   ],
   "source": [
    "obj=Add()\n",
    "ad=obj.addition(4,5)\n",
    "av=obj.avg(4,5)\n",
    "print(ad)\n",
    "print(av)"
   ]
  },
  {
   "cell_type": "code",
   "execution_count": 32,
   "id": "0c0f1990",
   "metadata": {},
   "outputs": [
    {
     "name": "stdout",
     "output_type": "stream",
     "text": [
      "3 1 2\n"
     ]
    }
   ],
   "source": [
    "print( '$100 $200 $300'.count('$'), '$100 $200 $300'.count('$', 5, 10), '$100 $200 $300'.count('$', 5) )"
   ]
  },
  {
   "cell_type": "code",
   "execution_count": 53,
   "id": "cf90a047",
   "metadata": {},
   "outputs": [],
   "source": [
    "class Vector:\n",
    "    def set_data(self,x,y):\n",
    "        self.x=x\n",
    "        self.y=y\n",
    "    def get_data(self):\n",
    "        return(self.x,self.y)\n",
    "    def add(self,other):\n",
    "        x=self.x+other.x\n",
    "        y=self.y+other.y\n",
    "        v=Vector()\n",
    "        v.set_data(x,y)\n",
    "        return v\n",
    "    def sub(self,other):\n",
    "            x=slef.x-other.x\n",
    "            y=self.y-other.y\n",
    "            v=Vector()\n",
    "            v.set_data(x,y)\n",
    "            return v\n",
    "    def mul(self,other):\n",
    "        x=slef.x*other.x\n",
    "        y=self.y*other.y\n",
    "        v=Vector()\n",
    "        v.set_data(x,y)\n",
    "        return v\n"
   ]
  },
  {
   "cell_type": "code",
   "execution_count": 54,
   "id": "65719247",
   "metadata": {},
   "outputs": [
    {
     "name": "stdout",
     "output_type": "stream",
     "text": [
      "(10, 20)\n",
      "(-20, -10)\n",
      "add:  (-10, 10)\n"
     ]
    }
   ],
   "source": [
    "v1=Vector()\n",
    "v2=Vector()\n",
    "v1.set_data(10,20)\n",
    "v2.set_data(-20,-10)\n",
    "print(v1.get_data())\n",
    "print(v2.get_data())\n",
    "v3=v1.add(v2)\n",
    "print(\"add: \",v3.get_data())"
   ]
  },
  {
   "cell_type": "code",
   "execution_count": 55,
   "id": "16c4151a",
   "metadata": {},
   "outputs": [
    {
     "name": "stdout",
     "output_type": "stream",
     "text": [
      "['__class__', '__delattr__', '__dict__', '__dir__', '__doc__', '__eq__', '__format__', '__ge__', '__getattribute__', '__gt__', '__hash__', '__init__', '__init_subclass__', '__le__', '__lt__', '__module__', '__ne__', '__new__', '__reduce__', '__reduce_ex__', '__repr__', '__setattr__', '__sizeof__', '__str__', '__subclasshook__', '__weakref__', 'add', 'get_data', 'mul', 'set_data', 'sub']\n"
     ]
    }
   ],
   "source": [
    "print(dir(Vector))"
   ]
  },
  {
   "cell_type": "code",
   "execution_count": 56,
   "id": "91dafe7c",
   "metadata": {},
   "outputs": [],
   "source": [
    "class std:\n",
    "    pass"
   ]
  },
  {
   "cell_type": "code",
   "execution_count": 59,
   "id": "69f34f56",
   "metadata": {},
   "outputs": [
    {
     "name": "stdout",
     "output_type": "stream",
     "text": [
      "<__main__.std object at 0x0000017FC5022CA0>\n",
      "<__main__.std object at 0x0000017FC5022CA0>\n"
     ]
    }
   ],
   "source": [
    "a=std()\n",
    "print(a)\n",
    "#Abstraction\n",
    "#print(std.__str__(a))"
   ]
  },
  {
   "cell_type": "code",
   "execution_count": 66,
   "id": "a4d4b45f",
   "metadata": {},
   "outputs": [],
   "source": [
    "class student:\n",
    "    def __str__(self):\n",
    "        return(f\"student({})\")\n",
    "        "
   ]
  },
  {
   "cell_type": "code",
   "execution_count": 67,
   "id": "ae4fbee1",
   "metadata": {},
   "outputs": [
    {
     "name": "stdout",
     "output_type": "stream",
     "text": [
      "Awsome\n"
     ]
    }
   ],
   "source": [
    "s1=student()\n",
    "print(s1)\n"
   ]
  },
  {
   "cell_type": "code",
   "execution_count": 68,
   "id": "d114a0c5",
   "metadata": {},
   "outputs": [],
   "source": [
    "class student:\n",
    "    def set_data(self,nm,crs):\n",
    "        self.name=nm\n",
    "        self.course=crs\n",
    "    def get_data(self):\n",
    "        return(self.name,self.course)"
   ]
  },
  {
   "cell_type": "code",
   "execution_count": 71,
   "id": "8088205e",
   "metadata": {},
   "outputs": [
    {
     "name": "stdout",
     "output_type": "stream",
     "text": [
      "('Raj', 'Python')\n"
     ]
    }
   ],
   "source": [
    "s=student()\n",
    "s.set_data(\"Raj\",\"Python\")\n",
    "print(s.get_data())"
   ]
  },
  {
   "cell_type": "code",
   "execution_count": 11,
   "id": "613a7848",
   "metadata": {},
   "outputs": [],
   "source": [
    "class Book():\n",
    "    def __init__(self,nm,auth,price):\n",
    "        self.name=nm\n",
    "        self.author=auth\n",
    "        self.amount=price\n",
    "    def __str__(self):\n",
    "        return self.name\n",
    "    def get_info(self):\n",
    "        msg= f\"\"\"\n",
    "                  Name={self.name}\n",
    "                  Author={self.author}\n",
    "                  Amount={self.amount}\n",
    "            \"\"\"\n",
    "        print(msg)\n",
    "        "
   ]
  },
  {
   "cell_type": "code",
   "execution_count": 13,
   "id": "7f8bd005",
   "metadata": {},
   "outputs": [
    {
     "name": "stdout",
     "output_type": "stream",
     "text": [
      "Wings on Fire\n",
      "\n",
      "                  Name=Wings on Fire\n",
      "                  Author=APJ\n",
      "                  Amount=324\n",
      "            \n",
      "{'name': 'Wings on Fire', 'author': 'APJ', 'amount': 324}\n"
     ]
    }
   ],
   "source": [
    "b1=Book(\"Wings on Fire\",\"APJ\",324)\n",
    "print(b1)\n",
    "b1.get_info()\n",
    "print(b1.__dict__)"
   ]
  },
  {
   "cell_type": "code",
   "execution_count": 2,
   "id": "be868e57",
   "metadata": {},
   "outputs": [],
   "source": [
    "#program to create the constructor __init__ and print the Object using __str__function (this is magic methods).\n",
    "\n",
    "class Person:\n",
    "    def __init__(self,lnm,fnm,mob,email):\n",
    "        self.Lname=lnm\n",
    "        self.Fname=fnm\n",
    "        self.mob=mob\n",
    "        if type(email)==str:\n",
    "            self.email=[email]\n",
    "        self.email=email\n",
    "    def __str__(self):\n",
    "        email=\",\".join(self.email)\n",
    "        return f\"Name: {self.Fname} {self.Lname}, Phone Number: {self.mob},email: {email}\"\n",
    "    \n",
    "    "
   ]
  },
  {
   "cell_type": "code",
   "execution_count": 3,
   "id": "97b04619",
   "metadata": {},
   "outputs": [
    {
     "name": "stdout",
     "output_type": "stream",
     "text": [
      "Name: Raj Anand, Phone Number: 8577907790,email: r,a,j,a,n,a,n,d,2,8,0,7,@,g,m,a,i,l,.,c,o,m\n"
     ]
    },
    {
     "ename": "TypeError",
     "evalue": "__init__() takes 5 positional arguments but 6 were given",
     "output_type": "error",
     "traceback": [
      "\u001b[1;31m---------------------------------------------------------------------------\u001b[0m",
      "\u001b[1;31mTypeError\u001b[0m                                 Traceback (most recent call last)",
      "\u001b[1;32m~\\AppData\\Local\\Temp\\ipykernel_24940\\1656199155.py\u001b[0m in \u001b[0;36m<module>\u001b[1;34m\u001b[0m\n\u001b[0;32m      1\u001b[0m \u001b[0mp1\u001b[0m\u001b[1;33m=\u001b[0m\u001b[0mPerson\u001b[0m\u001b[1;33m(\u001b[0m\u001b[1;34m\"Anand\"\u001b[0m\u001b[1;33m,\u001b[0m\u001b[1;34m\"Raj\"\u001b[0m\u001b[1;33m,\u001b[0m\u001b[1;36m8577907790\u001b[0m\u001b[1;33m,\u001b[0m\u001b[1;34m'rajanand2807@gmail.com'\u001b[0m\u001b[1;33m)\u001b[0m\u001b[1;33m\u001b[0m\u001b[1;33m\u001b[0m\u001b[0m\n\u001b[0;32m      2\u001b[0m \u001b[0mprint\u001b[0m\u001b[1;33m(\u001b[0m\u001b[0mp1\u001b[0m\u001b[1;33m)\u001b[0m\u001b[1;33m\u001b[0m\u001b[1;33m\u001b[0m\u001b[0m\n\u001b[1;32m----> 3\u001b[1;33m \u001b[0mp2\u001b[0m\u001b[1;33m=\u001b[0m\u001b[0mPerson\u001b[0m\u001b[1;33m(\u001b[0m\u001b[1;34m\"Yadav\"\u001b[0m\u001b[1;33m,\u001b[0m\u001b[1;34m\"Sachin\"\u001b[0m\u001b[1;33m,\u001b[0m\u001b[1;36m9899889009\u001b[0m\u001b[1;33m,\u001b[0m\u001b[1;34m\"xyz@gmail.com\"\u001b[0m\u001b[1;33m,\u001b[0m\u001b[1;34m\"abc@gmail.com\"\u001b[0m\u001b[1;33m)\u001b[0m\u001b[1;33m\u001b[0m\u001b[1;33m\u001b[0m\u001b[0m\n\u001b[0m\u001b[0;32m      4\u001b[0m \u001b[0mprint\u001b[0m\u001b[1;33m(\u001b[0m\u001b[0mp2\u001b[0m\u001b[1;33m)\u001b[0m\u001b[1;33m\u001b[0m\u001b[1;33m\u001b[0m\u001b[0m\n",
      "\u001b[1;31mTypeError\u001b[0m: __init__() takes 5 positional arguments but 6 were given"
     ]
    }
   ],
   "source": [
    "p1=Person(\"Anand\",\"Raj\",8577907790,'rajanand2807@gmail.com')\n",
    "print(p1)\n",
    "p2=Person(\"Yadav\",\"Sachin\",9899889009,\"xyz@gmail.com\",\"abc@gmail.com\")\n",
    "print(p2)"
   ]
  },
  {
   "cell_type": "markdown",
   "id": "35cb1abb",
   "metadata": {},
   "source": [
    "#single level inheritnance\n",
    "class PAPA:\n",
    "    house()\n",
    "    car()\n",
    "class child:\n",
    "     bike()\n"
   ]
  },
  {
   "cell_type": "code",
   "execution_count": 43,
   "id": "2cb6cd7b",
   "metadata": {},
   "outputs": [],
   "source": [
    "class Papa:\n",
    "    def __init__(self,name):\n",
    "        self.name=name\n",
    "    def __str__(self):\n",
    "        return f\"Papa('{self.name}')\"\n",
    "    def car(self):\n",
    "        print(\"papa ji ki Car\")\n",
    "    def house(self):\n",
    "        print(\"Papa ji ka Ghar\")\n",
    "    \n",
    "\n",
    "class Beta(Papa):\n",
    "    def bike(self):\n",
    "        print(\"Beta ji ki Bike\")\n"
   ]
  },
  {
   "cell_type": "code",
   "execution_count": 44,
   "id": "a3f01182",
   "metadata": {},
   "outputs": [
    {
     "name": "stdout",
     "output_type": "stream",
     "text": [
      "Papa('Raj Anand')\n",
      "papa ji ki Car\n",
      "Papa ji ka Ghar\n",
      "Beta ji ki Bike\n"
     ]
    }
   ],
   "source": [
    "b=Beta(\"Raj Anand\")\n",
    "print(b)\n",
    "b.car()\n",
    "b.house()\n",
    "b.bike()"
   ]
  },
  {
   "cell_type": "code",
   "execution_count": 50,
   "id": "82b32d37",
   "metadata": {},
   "outputs": [],
   "source": [
    "#Overriding \n",
    "class Papa:\n",
    "    def __init__(self,name):\n",
    "        self.name=name\n",
    "    def __str__(self):\n",
    "        return f\"Papa('{self.name}')\"\n",
    "    def car(self):\n",
    "        print(\"papa ji ki Car\")\n",
    "    def house(self):\n",
    "        print(\"Papa ji ka Ghar\")\n",
    "    \n",
    "\n",
    "class Beta(Papa):\n",
    "    def __str__(self):\n",
    "        return f\"Beta({self.name})\"\n",
    "    def bike(self):\n",
    "        print(\"Beta ji ki Bike\")\n",
    "    def car(self):\n",
    "        print(\"Beta ji ki car\")\n",
    "        super().car()# if we want to call parent method in child class then use supre method"
   ]
  },
  {
   "cell_type": "code",
   "execution_count": 51,
   "id": "4ccc3de5",
   "metadata": {},
   "outputs": [
    {
     "name": "stdout",
     "output_type": "stream",
     "text": [
      "Beta(Raj)\n",
      "Beta ji ki car\n",
      "papa ji ki Car\n",
      "Papa ji ka Ghar\n",
      "Beta ji ki Bike\n"
     ]
    }
   ],
   "source": [
    "b=Beta(\"Raj\")\n",
    "print(b)\n",
    "b.car()\n",
    "b.house()\n",
    "b.bike()"
   ]
  },
  {
   "cell_type": "code",
   "execution_count": 2,
   "id": "1031d5da",
   "metadata": {},
   "outputs": [
    {
     "name": "stdout",
     "output_type": "stream",
     "text": [
      "False\n"
     ]
    }
   ],
   "source": [
    "n=[0,1,2,3,4,6]\n",
    "print(5 in n)"
   ]
  },
  {
   "cell_type": "code",
   "execution_count": 3,
   "id": "15ddef64",
   "metadata": {},
   "outputs": [
    {
     "name": "stdout",
     "output_type": "stream",
     "text": [
      "[1, 3, 5, 7, 9]\n"
     ]
    }
   ],
   "source": [
    "color=[1,2,3,4,5,6,7,8,9,10]\n",
    "print(color[::2])"
   ]
  },
  {
   "cell_type": "code",
   "execution_count": 5,
   "id": "7b6c46fc",
   "metadata": {},
   "outputs": [
    {
     "name": "stdout",
     "output_type": "stream",
     "text": [
      "0 3 6 9 12 15 "
     ]
    }
   ],
   "source": [
    "count = 0\n",
    "while(True):\n",
    "    if count % 3 == 0:\n",
    "        print(count, end = \" \")\n",
    "    if(count > 15):\n",
    "        break;\n",
    "    count += 1"
   ]
  },
  {
   "cell_type": "code",
   "execution_count": 6,
   "id": "d7927814",
   "metadata": {},
   "outputs": [
    {
     "name": "stdout",
     "output_type": "stream",
     "text": [
      "[1, 2]\n"
     ]
    }
   ],
   "source": [
    "a = [1, 2, 3, 4]\n",
    "b = [3, 4, 5, 6]\n",
    "c = [x for x in a if x not in b]\n",
    "print(c)\n"
   ]
  },
  {
   "cell_type": "code",
   "execution_count": 8,
   "id": "e397cc7c",
   "metadata": {},
   "outputs": [],
   "source": [
    " class test:\n",
    "    def __init__(self,a=\"Hello World\"):\n",
    "        self.a=a\n",
    "    def display(self):\n",
    "        print(self.a)\n"
   ]
  },
  {
   "cell_type": "code",
   "execution_count": 9,
   "id": "04efc3ac",
   "metadata": {},
   "outputs": [
    {
     "name": "stdout",
     "output_type": "stream",
     "text": [
      "Hello World\n"
     ]
    }
   ],
   "source": [
    "obj=test()\n",
    "obj.display()\n"
   ]
  },
  {
   "cell_type": "code",
   "execution_count": 12,
   "id": "da70379e",
   "metadata": {},
   "outputs": [],
   "source": [
    "class demo:\n",
    "    def __repr__(self):\n",
    "        return \"__repr__ built-in function called\"\n",
    "    def __str__(self):\n",
    "        return \"__str__ built-in function called\"\n"
   ]
  },
  {
   "cell_type": "code",
   "execution_count": 13,
   "id": "3119c0a0",
   "metadata": {},
   "outputs": [
    {
     "name": "stdout",
     "output_type": "stream",
     "text": [
      "__str__ built-in function called\n"
     ]
    }
   ],
   "source": [
    "obj=demo()\n",
    "print(obj)"
   ]
  },
  {
   "cell_type": "code",
   "execution_count": 15,
   "id": "0916f586",
   "metadata": {},
   "outputs": [
    {
     "name": "stdout",
     "output_type": "stream",
     "text": [
      "five neither thrive three "
     ]
    }
   ],
   "source": [
    "def thrive(n):\n",
    "    if n % 15 == 0:\n",
    "        print(\"thrive\",end =\" \")\n",
    "    elif n % 3 != 0 and n % 5 != 0:\n",
    "        print(\"neither\",end=\" \")\n",
    "    elif n % 3 == 0:\n",
    "        print(\"three\",end=\" \")\n",
    "    elif n % 5 == 0:\n",
    "        print(\"five\",end=\" \")\n",
    "thrive(35)\n",
    "thrive(56)\n",
    "thrive(15)\n",
    "thrive(39)\n"
   ]
  },
  {
   "cell_type": "code",
   "execution_count": 17,
   "id": "833f0b83",
   "metadata": {},
   "outputs": [],
   "source": [
    "class A():\n",
    "    def disp(self):\n",
    "        print(\"A disp()\")\n",
    "class B(A):\n",
    "     pass\n"
   ]
  },
  {
   "cell_type": "code",
   "execution_count": 18,
   "id": "e931bea8",
   "metadata": {},
   "outputs": [
    {
     "name": "stdout",
     "output_type": "stream",
     "text": [
      "A disp()\n"
     ]
    }
   ],
   "source": [
    "obj = B()\n",
    "obj.disp()"
   ]
  },
  {
   "cell_type": "code",
   "execution_count": 19,
   "id": "cccb8590",
   "metadata": {},
   "outputs": [
    {
     "name": "stdout",
     "output_type": "stream",
     "text": [
      "['anagrams', 'anscombe', 'attention', 'brain_networks', 'car_crashes', 'diamonds', 'dots', 'dowjones', 'exercise', 'flights', 'fmri', 'geyser', 'glue', 'healthexp', 'iris', 'mpg', 'penguins', 'planets', 'seaice', 'taxis', 'tips', 'titanic']\n"
     ]
    }
   ],
   "source": [
    "import seaborn as sns\n",
    "print(sns.get_dataset_names())"
   ]
  },
  {
   "cell_type": "code",
   "execution_count": 20,
   "id": "9b0bec6c",
   "metadata": {},
   "outputs": [
    {
     "name": "stdout",
     "output_type": "stream",
     "text": [
      "     total_bill   tip     sex smoker   day    time  size\n",
      "0         16.99  1.01  Female     No   Sun  Dinner     2\n",
      "1         10.34  1.66    Male     No   Sun  Dinner     3\n",
      "2         21.01  3.50    Male     No   Sun  Dinner     3\n",
      "3         23.68  3.31    Male     No   Sun  Dinner     2\n",
      "4         24.59  3.61  Female     No   Sun  Dinner     4\n",
      "..          ...   ...     ...    ...   ...     ...   ...\n",
      "239       29.03  5.92    Male     No   Sat  Dinner     3\n",
      "240       27.18  2.00  Female    Yes   Sat  Dinner     2\n",
      "241       22.67  2.00    Male    Yes   Sat  Dinner     2\n",
      "242       17.82  1.75    Male     No   Sat  Dinner     2\n",
      "243       18.78  3.00  Female     No  Thur  Dinner     2\n",
      "\n",
      "[244 rows x 7 columns]\n"
     ]
    }
   ],
   "source": [
    "tips=sns.load_dataset(\"tips\")\n",
    "print(tips)"
   ]
  },
  {
   "cell_type": "code",
   "execution_count": 22,
   "id": "c1296219",
   "metadata": {},
   "outputs": [
    {
     "name": "stdout",
     "output_type": "stream",
     "text": [
      "   total_bill   tip     sex smoker  day    time  size\n",
      "0       16.99  1.01  Female     No  Sun  Dinner     2\n",
      "1       10.34  1.66    Male     No  Sun  Dinner     3\n",
      "2       21.01  3.50    Male     No  Sun  Dinner     3\n",
      "3       23.68  3.31    Male     No  Sun  Dinner     2\n",
      "4       24.59  3.61  Female     No  Sun  Dinner     4\n"
     ]
    }
   ],
   "source": [
    "print(tips.head())"
   ]
  },
  {
   "cell_type": "code",
   "execution_count": 23,
   "id": "2718745e",
   "metadata": {},
   "outputs": [
    {
     "name": "stdout",
     "output_type": "stream",
     "text": [
      "3\n",
      "Hello World\n",
      "False\n",
      "2.0\n"
     ]
    }
   ],
   "source": [
    "print(1 + 2)\n",
    "print(\"Hello \" + \"World\")\n",
    "print(True and False)\n",
    "print(4.0 / 2.0)\n"
   ]
  },
  {
   "cell_type": "code",
   "execution_count": 24,
   "id": "847bbf5d",
   "metadata": {},
   "outputs": [
    {
     "name": "stdout",
     "output_type": "stream",
     "text": [
      "<class 'int'>\n",
      "<class 'str'>\n",
      "<class 'bool'>\n",
      "<class 'float'>\n"
     ]
    }
   ],
   "source": [
    "print(type(3))\n",
    "print(type(\"Hello World\"))\n",
    "print(type(False))\n",
    "print(type(2.0))"
   ]
  },
  {
   "cell_type": "code",
   "execution_count": 26,
   "id": "245b5bcf",
   "metadata": {},
   "outputs": [
    {
     "name": "stdout",
     "output_type": "stream",
     "text": [
      "Hello World\n"
     ]
    }
   ],
   "source": [
    "a=\"Hello World\"\n",
    "b=a.rjust(5,\"-\")\n",
    "print(b)"
   ]
  },
  {
   "cell_type": "code",
   "execution_count": 27,
   "id": "3afacffb",
   "metadata": {},
   "outputs": [
    {
     "name": "stdout",
     "output_type": "stream",
     "text": [
      "True\n"
     ]
    }
   ],
   "source": [
    "x=\"i love my country.\"\n",
    "print(x.endswith(\".\"))\n"
   ]
  },
  {
   "cell_type": "code",
   "execution_count": 30,
   "id": "dd0efe8d",
   "metadata": {},
   "outputs": [
    {
     "name": "stdout",
     "output_type": "stream",
     "text": [
      "1,2,3,5\n",
      "R>a>j> >A>n>a>n>d\n"
     ]
    }
   ],
   "source": [
    "str=\"Raj Anand\"\n",
    "lst=[\"1\",\"2\",\"3\",\"5\"]\n",
    "print(\",\".join(lst))\n",
    "print(\">\".join(str))"
   ]
  },
  {
   "cell_type": "code",
   "execution_count": 31,
   "id": "2557f5a3",
   "metadata": {},
   "outputs": [
    {
     "name": "stdout",
     "output_type": "stream",
     "text": [
      "('Raj Anand', '', '')\n"
     ]
    }
   ],
   "source": [
    "str=\"Raj Anand\"\n",
    "print(str.partition(\",\"))"
   ]
  },
  {
   "cell_type": "code",
   "execution_count": 32,
   "id": "73cbec67",
   "metadata": {},
   "outputs": [
    {
     "name": "stdout",
     "output_type": "stream",
     "text": [
      "['__add__', '__class__', '__contains__', '__delattr__', '__dir__', '__doc__', '__eq__', '__format__', '__ge__', '__getattribute__', '__getitem__', '__getnewargs__', '__gt__', '__hash__', '__init__', '__init_subclass__', '__iter__', '__le__', '__len__', '__lt__', '__mod__', '__mul__', '__ne__', '__new__', '__reduce__', '__reduce_ex__', '__repr__', '__rmod__', '__rmul__', '__setattr__', '__sizeof__', '__str__', '__subclasshook__', 'capitalize', 'casefold', 'center', 'count', 'encode', 'endswith', 'expandtabs', 'find', 'format', 'format_map', 'index', 'isalnum', 'isalpha', 'isascii', 'isdecimal', 'isdigit', 'isidentifier', 'islower', 'isnumeric', 'isprintable', 'isspace', 'istitle', 'isupper', 'join', 'ljust', 'lower', 'lstrip', 'maketrans', 'partition', 'removeprefix', 'removesuffix', 'replace', 'rfind', 'rindex', 'rjust', 'rpartition', 'rsplit', 'rstrip', 'split', 'splitlines', 'startswith', 'strip', 'swapcase', 'title', 'translate', 'upper', 'zfill']\n"
     ]
    }
   ],
   "source": [
    "x=\"hello\"\n",
    "print(dir(x))"
   ]
  },
  {
   "cell_type": "code",
   "execution_count": 33,
   "id": "268cc767",
   "metadata": {},
   "outputs": [
    {
     "name": "stdout",
     "output_type": "stream",
     "text": [
      "['__abs__', '__add__', '__and__', '__bool__', '__ceil__', '__class__', '__delattr__', '__dir__', '__divmod__', '__doc__', '__eq__', '__float__', '__floor__', '__floordiv__', '__format__', '__ge__', '__getattribute__', '__getnewargs__', '__gt__', '__hash__', '__index__', '__init__', '__init_subclass__', '__int__', '__invert__', '__le__', '__lshift__', '__lt__', '__mod__', '__mul__', '__ne__', '__neg__', '__new__', '__or__', '__pos__', '__pow__', '__radd__', '__rand__', '__rdivmod__', '__reduce__', '__reduce_ex__', '__repr__', '__rfloordiv__', '__rlshift__', '__rmod__', '__rmul__', '__ror__', '__round__', '__rpow__', '__rrshift__', '__rshift__', '__rsub__', '__rtruediv__', '__rxor__', '__setattr__', '__sizeof__', '__str__', '__sub__', '__subclasshook__', '__truediv__', '__trunc__', '__xor__', 'as_integer_ratio', 'bit_length', 'conjugate', 'denominator', 'from_bytes', 'imag', 'numerator', 'real', 'to_bytes']\n"
     ]
    }
   ],
   "source": [
    "x=123\n",
    "print(dir(x))"
   ]
  },
  {
   "cell_type": "code",
   "execution_count": 45,
   "id": "74b43cc4",
   "metadata": {},
   "outputs": [
    {
     "name": "stdout",
     "output_type": "stream",
     "text": [
      "true\n"
     ]
    }
   ],
   "source": [
    "x=1.5\n",
    "y=0.5\n",
    "if x.__gt__(y):\n",
    "    print(\"true\")\n"
   ]
  },
  {
   "cell_type": "code",
   "execution_count": 52,
   "id": "0cb26b3c",
   "metadata": {},
   "outputs": [
    {
     "name": "stdout",
     "output_type": "stream",
     "text": [
      "[1, 2, 3, 4]\n",
      "[5, 6, 7, 8]\n",
      "[9, 10, 11, 12]\n",
      "[1, 5, 9]\n"
     ]
    }
   ],
   "source": [
    "matrix=[[1,2,3,4],[5,6,7,8],[9,10,11,12]]\n",
    "transposed=[]\n",
    "for i in range(1):\n",
    "    mat=[]\n",
    "    for row in matrix:\n",
    "        print(row)\n",
    "        mat.append(row[i])\n",
    "    print(mat)"
   ]
  },
  {
   "cell_type": "code",
   "execution_count": 75,
   "id": "c7401745",
   "metadata": {},
   "outputs": [],
   "source": [
    "import random\n",
    "import pandas as pd\n",
    "from pprint import pprint \n",
    "def fake_data_generate(n):\n",
    "    gender=[\"Male\",\"Female\",\"Others\"]\n",
    "    instance=[random.choice(gender),random.randint(40,100),random.randint(40,100),random.randint(40,100),random.randint(40,100)]\n",
    "    sample=[]\n",
    "    for _ in range(n):\n",
    "        sample.append(instance)\n",
    "    return(sample)\n"
   ]
  },
  {
   "cell_type": "code",
   "execution_count": 76,
   "id": "3f8dd85a",
   "metadata": {},
   "outputs": [
    {
     "data": {
      "text/plain": [
       "<AxesSubplot:>"
      ]
     },
     "execution_count": 76,
     "metadata": {},
     "output_type": "execute_result"
    },
    {
     "data": {
      "image/png": "[encoded data removed]",
      "text/plain": [
       "<Figure size 640x480 with 1 Axes>"
      ]
     },
     "metadata": {},
     "output_type": "display_data"
    }
   ],
   "source": [
    "data=fake_data_generate(10000)\n",
    "df=pd.DataFrame(data,columns=[\"Gender\",\"Age\",\"Maths\",\"Phy\",\"Chem\"])\n",
    "df[\"Gender\"].value_counts().plot(kind=\"bar\")"
   ]
  },
  {
   "cell_type": "code",
   "execution_count": 79,
   "id": "d9c3e0ba",
   "metadata": {},
   "outputs": [
    {
     "data": {
      "text/html": [
       "<div>\n",
       "<style scoped>\n",
       "    .dataframe tbody tr th:only-of-type {\n",
       "        vertical-align: middle;\n",
       "    }\n",
       "\n",
       "    .dataframe tbody tr th {\n",
       "        vertical-align: top;\n",
       "    }\n",
       "\n",
       "    .dataframe thead th {\n",
       "        text-align: right;\n",
       "    }\n",
       "</style>\n",
       "<table border=\"1\" class=\"dataframe\">\n",
       "  <thead>\n",
       "    <tr style=\"text-align: right;\">\n",
       "      <th></th>\n",
       "      <th>Gender</th>\n",
       "      <th>Age</th>\n",
       "      <th>Maths</th>\n",
       "      <th>Phy</th>\n",
       "      <th>Chem</th>\n",
       "      <th>total</th>\n",
       "    </tr>\n",
       "  </thead>\n",
       "  <tbody>\n",
       "    <tr>\n",
       "      <th>0</th>\n",
       "      <td>Male</td>\n",
       "      <td>48</td>\n",
       "      <td>99</td>\n",
       "      <td>46</td>\n",
       "      <td>48</td>\n",
       "      <td>193</td>\n",
       "    </tr>\n",
       "    <tr>\n",
       "      <th>1</th>\n",
       "      <td>Male</td>\n",
       "      <td>48</td>\n",
       "      <td>99</td>\n",
       "      <td>46</td>\n",
       "      <td>48</td>\n",
       "      <td>193</td>\n",
       "    </tr>\n",
       "    <tr>\n",
       "      <th>2</th>\n",
       "      <td>Male</td>\n",
       "      <td>48</td>\n",
       "      <td>99</td>\n",
       "      <td>46</td>\n",
       "      <td>48</td>\n",
       "      <td>193</td>\n",
       "    </tr>\n",
       "    <tr>\n",
       "      <th>3</th>\n",
       "      <td>Male</td>\n",
       "      <td>48</td>\n",
       "      <td>99</td>\n",
       "      <td>46</td>\n",
       "      <td>48</td>\n",
       "      <td>193</td>\n",
       "    </tr>\n",
       "    <tr>\n",
       "      <th>4</th>\n",
       "      <td>Male</td>\n",
       "      <td>48</td>\n",
       "      <td>99</td>\n",
       "      <td>46</td>\n",
       "      <td>48</td>\n",
       "      <td>193</td>\n",
       "    </tr>\n",
       "  </tbody>\n",
       "</table>\n",
       "</div>"
      ],
      "text/plain": [
       "  Gender  Age  Maths  Phy  Chem  total\n",
       "0   Male   48     99   46    48    193\n",
       "1   Male   48     99   46    48    193\n",
       "2   Male   48     99   46    48    193\n",
       "3   Male   48     99   46    48    193\n",
       "4   Male   48     99   46    48    193"
      ]
     },
     "execution_count": 79,
     "metadata": {},
     "output_type": "execute_result"
    }
   ],
   "source": [
    "df[\"total\"]=df[\"Maths\"]+df[\"Phy\"]+df[\"Chem\"]\n",
    "df.head()"
   ]
  },
  {
   "cell_type": "code",
   "execution_count": 82,
   "id": "0d25d82a",
   "metadata": {},
   "outputs": [
    {
     "data": {
      "text/html": [
       "<div>\n",
       "<style scoped>\n",
       "    .dataframe tbody tr th:only-of-type {\n",
       "        vertical-align: middle;\n",
       "    }\n",
       "\n",
       "    .dataframe tbody tr th {\n",
       "        vertical-align: top;\n",
       "    }\n",
       "\n",
       "    .dataframe thead th {\n",
       "        text-align: right;\n",
       "    }\n",
       "</style>\n",
       "<table border=\"1\" class=\"dataframe\">\n",
       "  <thead>\n",
       "    <tr style=\"text-align: right;\">\n",
       "      <th></th>\n",
       "      <th>Gender</th>\n",
       "      <th>Age</th>\n",
       "      <th>Maths</th>\n",
       "      <th>Phy</th>\n",
       "      <th>Chem</th>\n",
       "      <th>total</th>\n",
       "      <th>percent</th>\n",
       "    </tr>\n",
       "  </thead>\n",
       "  <tbody>\n",
       "    <tr>\n",
       "      <th>0</th>\n",
       "      <td>Male</td>\n",
       "      <td>48</td>\n",
       "      <td>99</td>\n",
       "      <td>46</td>\n",
       "      <td>48</td>\n",
       "      <td>193</td>\n",
       "      <td>64.333333</td>\n",
       "    </tr>\n",
       "    <tr>\n",
       "      <th>1</th>\n",
       "      <td>Male</td>\n",
       "      <td>48</td>\n",
       "      <td>99</td>\n",
       "      <td>46</td>\n",
       "      <td>48</td>\n",
       "      <td>193</td>\n",
       "      <td>64.333333</td>\n",
       "    </tr>\n",
       "    <tr>\n",
       "      <th>2</th>\n",
       "      <td>Male</td>\n",
       "      <td>48</td>\n",
       "      <td>99</td>\n",
       "      <td>46</td>\n",
       "      <td>48</td>\n",
       "      <td>193</td>\n",
       "      <td>64.333333</td>\n",
       "    </tr>\n",
       "    <tr>\n",
       "      <th>3</th>\n",
       "      <td>Male</td>\n",
       "      <td>48</td>\n",
       "      <td>99</td>\n",
       "      <td>46</td>\n",
       "      <td>48</td>\n",
       "      <td>193</td>\n",
       "      <td>64.333333</td>\n",
       "    </tr>\n",
       "    <tr>\n",
       "      <th>4</th>\n",
       "      <td>Male</td>\n",
       "      <td>48</td>\n",
       "      <td>99</td>\n",
       "      <td>46</td>\n",
       "      <td>48</td>\n",
       "      <td>193</td>\n",
       "      <td>64.333333</td>\n",
       "    </tr>\n",
       "  </tbody>\n",
       "</table>\n",
       "</div>"
      ],
      "text/plain": [
       "  Gender  Age  Maths  Phy  Chem  total    percent\n",
       "0   Male   48     99   46    48    193  64.333333\n",
       "1   Male   48     99   46    48    193  64.333333\n",
       "2   Male   48     99   46    48    193  64.333333\n",
       "3   Male   48     99   46    48    193  64.333333\n",
       "4   Male   48     99   46    48    193  64.333333"
      ]
     },
     "execution_count": 82,
     "metadata": {},
     "output_type": "execute_result"
    }
   ],
   "source": [
    "df[\"percent\"]=((df[\"Maths\"]+df[\"Phy\"]+df[\"Chem\"])/3)\n",
    "df.head()"
   ]
  },
  {
   "cell_type": "code",
   "execution_count": 33,
   "id": "43b81aec",
   "metadata": {},
   "outputs": [
    {
     "name": "stdout",
     "output_type": "stream",
     "text": [
      "       Name  Age  Chem  Phy  Math  Total\n",
      "5    Ankita   32    98   78    67    243\n",
      "1    Ashima   35    78   89    90    257\n",
      "4     Nitin   45    89   88    77    254\n",
      "2     Rahul   30    89   90    90    269\n",
      "0       Raj   36    90   90    89    269\n",
      "3  Sangeeta   42    99   90    88    277\n"
     ]
    }
   ],
   "source": [
    "import pandas as pd\n",
    "from pprint import pprint\n",
    "data=[\n",
    "    [\"Raj\",36,90,90,89],\n",
    "    [\"Ashima\",35,78,89,90],\n",
    "    [\"Rahul\",30,89,90,90],\n",
    "    [\"Sangeeta\",42,99,90,88],\n",
    "    [\"Nitin\",45,89,88,77],\n",
    "    [\"Ankita\",32,98,78,67]\n",
    "]\n",
    "for i in range(0,len(data)):\n",
    "    total=data[i][2]+data[i][3]+data[i][4]\n",
    "    data[i].append(total)\n",
    "df=pd.DataFrame(data,columns=[\"Name\",\"Age\",\"Chem\",\"Phy\",\"Math\",\"Total\"]).sort_values(\"Name\",ascending=True)\n",
    "pprint(df)"
   ]
  },
  {
   "cell_type": "code",
   "execution_count": 36,
   "id": "deea1175",
   "metadata": {},
   "outputs": [
    {
     "name": "stdout",
     "output_type": "stream",
     "text": [
      "None\n"
     ]
    }
   ],
   "source": [
    "d=[5,3,1,2,4]\n",
    "print(d.sort())"
   ]
  },
  {
   "cell_type": "code",
   "execution_count": 41,
   "id": "7e6f5aa9",
   "metadata": {},
   "outputs": [],
   "source": [
    "import random\n",
    "def fake_data(n):\n",
    "    name=[\"Anuradha\",\"Priya\",\"Akshita\",\"Ankita\",\"Sangeeta\",\"Ashima\"]\n",
    "    lname=[\"Singh\",\"Rathore\",\"Agarwal\",\"Mishra\",\"Sharma\"]\n",
    "    data=[]\n",
    "    for _ in range(n):\n",
    "        instance=[random.choice(name)+\" \"+random.choice(lname),random.randint(20,30),random.randint(0,99),random.randint(0,99),random.randint(0,99)]\n",
    "        data.append(instance)\n",
    "    return(data)    \n"
   ]
  },
  {
   "cell_type": "code",
   "execution_count": 88,
   "id": "8623b637",
   "metadata": {},
   "outputs": [
    {
     "ename": "ValueError",
     "evalue": "Length of values (7) does not match length of index (10)",
     "output_type": "error",
     "traceback": [
      "\u001b[1;31m---------------------------------------------------------------------------\u001b[0m",
      "\u001b[1;31mValueError\u001b[0m                                Traceback (most recent call last)",
      "\u001b[1;32m~\\AppData\\Local\\Temp\\ipykernel_12344\\4266189893.py\u001b[0m in \u001b[0;36m<module>\u001b[1;34m\u001b[0m\n\u001b[0;32m      3\u001b[0m \u001b[0mdf\u001b[0m\u001b[1;33m[\u001b[0m\u001b[1;34m\"Total\"\u001b[0m\u001b[1;33m]\u001b[0m\u001b[1;33m=\u001b[0m\u001b[0mdf\u001b[0m\u001b[1;33m[\u001b[0m\u001b[1;34m\"Math\"\u001b[0m\u001b[1;33m]\u001b[0m\u001b[1;33m+\u001b[0m\u001b[0mdf\u001b[0m\u001b[1;33m[\u001b[0m\u001b[1;34m\"Chem\"\u001b[0m\u001b[1;33m]\u001b[0m\u001b[1;33m+\u001b[0m\u001b[0mdf\u001b[0m\u001b[1;33m[\u001b[0m\u001b[1;34m\"Physics\"\u001b[0m\u001b[1;33m]\u001b[0m\u001b[1;33m\u001b[0m\u001b[1;33m\u001b[0m\u001b[0m\n\u001b[0;32m      4\u001b[0m \u001b[0mdf\u001b[0m\u001b[1;33m=\u001b[0m\u001b[0mdf\u001b[0m\u001b[1;33m.\u001b[0m\u001b[0msort_values\u001b[0m\u001b[1;33m(\u001b[0m\u001b[1;34m\"Total\"\u001b[0m\u001b[1;33m,\u001b[0m\u001b[0mascending\u001b[0m\u001b[1;33m=\u001b[0m\u001b[1;32mFalse\u001b[0m\u001b[1;33m)\u001b[0m\u001b[1;33m\u001b[0m\u001b[1;33m\u001b[0m\u001b[0m\n\u001b[1;32m----> 5\u001b[1;33m \u001b[0mdf\u001b[0m\u001b[1;33m[\u001b[0m\u001b[1;34m\"cumlative\"\u001b[0m\u001b[1;33m]\u001b[0m\u001b[1;33m=\u001b[0m\u001b[0mdf\u001b[0m\u001b[1;33m.\u001b[0m\u001b[0mgroupby\u001b[0m\u001b[1;33m(\u001b[0m\u001b[1;34m\"Name\"\u001b[0m\u001b[1;33m)\u001b[0m\u001b[1;33m[\u001b[0m\u001b[1;34m\"Total\"\u001b[0m\u001b[1;33m]\u001b[0m\u001b[1;33m\u001b[0m\u001b[1;33m\u001b[0m\u001b[0m\n\u001b[0m\u001b[0;32m      6\u001b[0m \u001b[0mprint\u001b[0m\u001b[1;33m(\u001b[0m\u001b[0mdf\u001b[0m\u001b[1;33m)\u001b[0m\u001b[1;33m\u001b[0m\u001b[1;33m\u001b[0m\u001b[0m\n",
      "\u001b[1;32mC:\\ProgramData\\Anaconda3\\lib\\site-packages\\pandas\\core\\frame.py\u001b[0m in \u001b[0;36m__setitem__\u001b[1;34m(self, key, value)\u001b[0m\n\u001b[0;32m   3653\u001b[0m         \u001b[1;32melse\u001b[0m\u001b[1;33m:\u001b[0m\u001b[1;33m\u001b[0m\u001b[1;33m\u001b[0m\u001b[0m\n\u001b[0;32m   3654\u001b[0m             \u001b[1;31m# set column\u001b[0m\u001b[1;33m\u001b[0m\u001b[1;33m\u001b[0m\u001b[0m\n\u001b[1;32m-> 3655\u001b[1;33m             \u001b[0mself\u001b[0m\u001b[1;33m.\u001b[0m\u001b[0m_set_item\u001b[0m\u001b[1;33m(\u001b[0m\u001b[0mkey\u001b[0m\u001b[1;33m,\u001b[0m \u001b[0mvalue\u001b[0m\u001b[1;33m)\u001b[0m\u001b[1;33m\u001b[0m\u001b[1;33m\u001b[0m\u001b[0m\n\u001b[0m\u001b[0;32m   3656\u001b[0m \u001b[1;33m\u001b[0m\u001b[0m\n\u001b[0;32m   3657\u001b[0m     \u001b[1;32mdef\u001b[0m \u001b[0m_setitem_slice\u001b[0m\u001b[1;33m(\u001b[0m\u001b[0mself\u001b[0m\u001b[1;33m,\u001b[0m \u001b[0mkey\u001b[0m\u001b[1;33m:\u001b[0m \u001b[0mslice\u001b[0m\u001b[1;33m,\u001b[0m \u001b[0mvalue\u001b[0m\u001b[1;33m)\u001b[0m\u001b[1;33m:\u001b[0m\u001b[1;33m\u001b[0m\u001b[1;33m\u001b[0m\u001b[0m\n",
      "\u001b[1;32mC:\\ProgramData\\Anaconda3\\lib\\site-packages\\pandas\\core\\frame.py\u001b[0m in \u001b[0;36m_set_item\u001b[1;34m(self, key, value)\u001b[0m\n\u001b[0;32m   3830\u001b[0m         \u001b[0mensure\u001b[0m \u001b[0mhomogeneity\u001b[0m\u001b[1;33m.\u001b[0m\u001b[1;33m\u001b[0m\u001b[1;33m\u001b[0m\u001b[0m\n\u001b[0;32m   3831\u001b[0m         \"\"\"\n\u001b[1;32m-> 3832\u001b[1;33m         \u001b[0mvalue\u001b[0m \u001b[1;33m=\u001b[0m \u001b[0mself\u001b[0m\u001b[1;33m.\u001b[0m\u001b[0m_sanitize_column\u001b[0m\u001b[1;33m(\u001b[0m\u001b[0mvalue\u001b[0m\u001b[1;33m)\u001b[0m\u001b[1;33m\u001b[0m\u001b[1;33m\u001b[0m\u001b[0m\n\u001b[0m\u001b[0;32m   3833\u001b[0m \u001b[1;33m\u001b[0m\u001b[0m\n\u001b[0;32m   3834\u001b[0m         if (\n",
      "\u001b[1;32mC:\\ProgramData\\Anaconda3\\lib\\site-packages\\pandas\\core\\frame.py\u001b[0m in \u001b[0;36m_sanitize_column\u001b[1;34m(self, value)\u001b[0m\n\u001b[0;32m   4536\u001b[0m \u001b[1;33m\u001b[0m\u001b[0m\n\u001b[0;32m   4537\u001b[0m         \u001b[1;32mif\u001b[0m \u001b[0mis_list_like\u001b[0m\u001b[1;33m(\u001b[0m\u001b[0mvalue\u001b[0m\u001b[1;33m)\u001b[0m\u001b[1;33m:\u001b[0m\u001b[1;33m\u001b[0m\u001b[1;33m\u001b[0m\u001b[0m\n\u001b[1;32m-> 4538\u001b[1;33m             \u001b[0mcom\u001b[0m\u001b[1;33m.\u001b[0m\u001b[0mrequire_length_match\u001b[0m\u001b[1;33m(\u001b[0m\u001b[0mvalue\u001b[0m\u001b[1;33m,\u001b[0m \u001b[0mself\u001b[0m\u001b[1;33m.\u001b[0m\u001b[0mindex\u001b[0m\u001b[1;33m)\u001b[0m\u001b[1;33m\u001b[0m\u001b[1;33m\u001b[0m\u001b[0m\n\u001b[0m\u001b[0;32m   4539\u001b[0m         \u001b[1;32mreturn\u001b[0m \u001b[0msanitize_array\u001b[0m\u001b[1;33m(\u001b[0m\u001b[0mvalue\u001b[0m\u001b[1;33m,\u001b[0m \u001b[0mself\u001b[0m\u001b[1;33m.\u001b[0m\u001b[0mindex\u001b[0m\u001b[1;33m,\u001b[0m \u001b[0mcopy\u001b[0m\u001b[1;33m=\u001b[0m\u001b[1;32mTrue\u001b[0m\u001b[1;33m,\u001b[0m \u001b[0mallow_2d\u001b[0m\u001b[1;33m=\u001b[0m\u001b[1;32mTrue\u001b[0m\u001b[1;33m)\u001b[0m\u001b[1;33m\u001b[0m\u001b[1;33m\u001b[0m\u001b[0m\n\u001b[0;32m   4540\u001b[0m \u001b[1;33m\u001b[0m\u001b[0m\n",
      "\u001b[1;32mC:\\ProgramData\\Anaconda3\\lib\\site-packages\\pandas\\core\\common.py\u001b[0m in \u001b[0;36mrequire_length_match\u001b[1;34m(data, index)\u001b[0m\n\u001b[0;32m    555\u001b[0m     \"\"\"\n\u001b[0;32m    556\u001b[0m     \u001b[1;32mif\u001b[0m \u001b[0mlen\u001b[0m\u001b[1;33m(\u001b[0m\u001b[0mdata\u001b[0m\u001b[1;33m)\u001b[0m \u001b[1;33m!=\u001b[0m \u001b[0mlen\u001b[0m\u001b[1;33m(\u001b[0m\u001b[0mindex\u001b[0m\u001b[1;33m)\u001b[0m\u001b[1;33m:\u001b[0m\u001b[1;33m\u001b[0m\u001b[1;33m\u001b[0m\u001b[0m\n\u001b[1;32m--> 557\u001b[1;33m         raise ValueError(\n\u001b[0m\u001b[0;32m    558\u001b[0m             \u001b[1;34m\"Length of values \"\u001b[0m\u001b[1;33m\u001b[0m\u001b[1;33m\u001b[0m\u001b[0m\n\u001b[0;32m    559\u001b[0m             \u001b[1;34mf\"({len(data)}) \"\u001b[0m\u001b[1;33m\u001b[0m\u001b[1;33m\u001b[0m\u001b[0m\n",
      "\u001b[1;31mValueError\u001b[0m: Length of values (7) does not match length of index (10)"
     ]
    }
   ],
   "source": [
    "import pandas as pd \n",
    "df=pd.DataFrame(fake_data(10),columns=[\"Name\",\"Age\",\"Math\",\"Chem\",\"Physics\"])\n",
    "df[\"Total\"]=df[\"Math\"]+df[\"Chem\"]+df[\"Physics\"]\n",
    "df=df.sort_values(\"Total\",ascending=False)\n",
    "print(df)"
   ]
  },
  {
   "cell_type": "code",
   "execution_count": 85,
   "id": "ef896fb7",
   "metadata": {},
   "outputs": [
    {
     "data": {
      "image/png": "[encoded data removed]",
      "text/plain": [
       "<Figure size 640x480 with 1 Axes>"
      ]
     },
     "metadata": {},
     "output_type": "display_data"
    }
   ],
   "source": [
    "import matplotlib.pyplot as plt\n",
    "plt.bar(df[\"Age\"],df[\"Total\"],color=\"Green\")\n",
    "plt.show()"
   ]
  },
  {
   "cell_type": "code",
   "execution_count": 82,
   "id": "a843a969",
   "metadata": {},
   "outputs": [
    {
     "name": "stdout",
     "output_type": "stream",
     "text": [
      "['Age', 'Chem', 'Math', 'Name', 'Physics', 'T', 'Total', '_AXIS_LEN', '_AXIS_ORDERS', '_AXIS_TO_AXIS_NUMBER', '_HANDLED_TYPES', '__abs__', '__add__', '__and__', '__annotations__', '__array__', '__array_priority__', '__array_ufunc__', '__array_wrap__', '__bool__', '__class__', '__contains__', '__copy__', '__deepcopy__', '__delattr__', '__delitem__', '__dict__', '__dir__', '__divmod__', '__doc__', '__eq__', '__finalize__', '__floordiv__', '__format__', '__ge__', '__getattr__', '__getattribute__', '__getitem__', '__getstate__', '__gt__', '__hash__', '__iadd__', '__iand__', '__ifloordiv__', '__imod__', '__imul__', '__init__', '__init_subclass__', '__invert__', '__ior__', '__ipow__', '__isub__', '__iter__', '__itruediv__', '__ixor__', '__le__', '__len__', '__lt__', '__matmul__', '__mod__', '__module__', '__mul__', '__ne__', '__neg__', '__new__', '__nonzero__', '__or__', '__pos__', '__pow__', '__radd__', '__rand__', '__rdivmod__', '__reduce__', '__reduce_ex__', '__repr__', '__rfloordiv__', '__rmatmul__', '__rmod__', '__rmul__', '__ror__', '__round__', '__rpow__', '__rsub__', '__rtruediv__', '__rxor__', '__setattr__', '__setitem__', '__setstate__', '__sizeof__', '__str__', '__sub__', '__subclasshook__', '__truediv__', '__weakref__', '__xor__', '_accessors', '_accum_func', '_add_numeric_operations', '_agg_by_level', '_agg_examples_doc', '_agg_summary_and_see_also_doc', '_align_frame', '_align_series', '_append', '_arith_method', '_as_manager', '_attrs', '_box_col_values', '_can_fast_transpose', '_check_inplace_and_allows_duplicate_labels', '_check_inplace_setting', '_check_is_chained_assignment_possible', '_check_label_or_level_ambiguity', '_check_setitem_copy', '_clear_item_cache', '_clip_with_one_bound', '_clip_with_scalar', '_cmp_method', '_combine_frame', '_consolidate', '_consolidate_inplace', '_construct_axes_dict', '_construct_axes_from_arguments', '_construct_result', '_constructor', '_constructor_sliced', '_convert', '_count_level', '_data', '_dir_additions', '_dir_deletions', '_dispatch_frame_op', '_drop_axis', '_drop_labels_or_levels', '_ensure_valid_index', '_find_valid_index', '_flags', '_from_arrays', '_from_mgr', '_get_agg_axis', '_get_axis', '_get_axis_name', '_get_axis_number', '_get_axis_resolvers', '_get_block_manager_axis', '_get_bool_data', '_get_cleaned_column_resolvers', '_get_column_array', '_get_index_resolvers', '_get_item_cache', '_get_label_or_level_values', '_get_numeric_data', '_get_value', '_getitem_bool_array', '_getitem_multilevel', '_gotitem', '_hidden_attrs', '_indexed_same', '_info_axis', '_info_axis_name', '_info_axis_number', '_info_repr', '_init_mgr', '_inplace_method', '_internal_names', '_internal_names_set', '_is_copy', '_is_homogeneous_type', '_is_label_or_level_reference', '_is_label_reference', '_is_level_reference', '_is_mixed_type', '_is_view', '_iset_item', '_iset_item_mgr', '_iset_not_inplace', '_item_cache', '_iter_column_arrays', '_ixs', '_join_compat', '_logical_func', '_logical_method', '_maybe_cache_changed', '_maybe_update_cacher', '_metadata', '_mgr', '_min_count_stat_function', '_needs_reindex_multi', '_protect_consolidate', '_reduce', '_reduce_axis1', '_reindex_axes', '_reindex_columns', '_reindex_index', '_reindex_multi', '_reindex_with_indexers', '_rename', '_replace_columnwise', '_repr_data_resource_', '_repr_fits_horizontal_', '_repr_fits_vertical_', '_repr_html_', '_repr_latex_', '_reset_cache', '_reset_cacher', '_sanitize_column', '_series', '_set_axis', '_set_axis_name', '_set_axis_nocheck', '_set_is_copy', '_set_item', '_set_item_frame_value', '_set_item_mgr', '_set_value', '_setitem_array', '_setitem_frame', '_setitem_slice', '_slice', '_stat_axis', '_stat_axis_name', '_stat_axis_number', '_stat_function', '_stat_function_ddof', '_take_with_is_copy', '_to_dict_of_blocks', '_typ', '_update_inplace', '_validate_dtype', '_values', '_where', 'abs', 'add', 'add_prefix', 'add_suffix', 'agg', 'aggregate', 'align', 'all', 'any', 'append', 'apply', 'applymap', 'asfreq', 'asof', 'assign', 'astype', 'at', 'at_time', 'attrs', 'axes', 'backfill', 'between_time', 'bfill', 'bool', 'boxplot', 'clip', 'columns', 'combine', 'combine_first', 'compare', 'convert_dtypes', 'copy', 'corr', 'corrwith', 'count', 'cov', 'cummax', 'cummin', 'cumprod', 'cumsum', 'describe', 'diff', 'div', 'divide', 'dot', 'drop', 'drop_duplicates', 'droplevel', 'dropna', 'dtypes', 'duplicated', 'empty', 'eq', 'equals', 'eval', 'ewm', 'expanding', 'explode', 'ffill', 'fillna', 'filter', 'first', 'first_valid_index', 'flags', 'floordiv', 'from_dict', 'from_records', 'ge', 'get', 'groupby', 'gt', 'head', 'hist', 'iat', 'idxmax', 'idxmin', 'iloc', 'index', 'infer_objects', 'info', 'insert', 'interpolate', 'isin', 'isna', 'isnull', 'items', 'iteritems', 'iterrows', 'itertuples', 'join', 'keys', 'kurt', 'kurtosis', 'last', 'last_valid_index', 'le', 'loc', 'lookup', 'lt', 'mad', 'mask', 'max', 'mean', 'median', 'melt', 'memory_usage', 'merge', 'min', 'mod', 'mode', 'mul', 'multiply', 'ndim', 'ne', 'nlargest', 'notna', 'notnull', 'nsmallest', 'nunique', 'pad', 'pct_change', 'pipe', 'pivot', 'pivot_table', 'plot', 'pop', 'pow', 'prod', 'product', 'quantile', 'query', 'radd', 'rank', 'rdiv', 'reindex', 'reindex_like', 'rename', 'rename_axis', 'reorder_levels', 'replace', 'resample', 'reset_index', 'rfloordiv', 'rmod', 'rmul', 'rolling', 'round', 'rpow', 'rsub', 'rtruediv', 'sample', 'select_dtypes', 'sem', 'set_axis', 'set_flags', 'set_index', 'shape', 'shift', 'size', 'skew', 'slice_shift', 'sort_index', 'sort_values', 'squeeze', 'stack', 'std', 'style', 'sub', 'subtract', 'sum', 'swapaxes', 'swaplevel', 'tail', 'take', 'to_clipboard', 'to_csv', 'to_dict', 'to_excel', 'to_feather', 'to_gbq', 'to_hdf', 'to_html', 'to_json', 'to_latex', 'to_markdown', 'to_numpy', 'to_parquet', 'to_period', 'to_pickle', 'to_records', 'to_sql', 'to_stata', 'to_string', 'to_timestamp', 'to_xarray', 'to_xml', 'transform', 'transpose', 'truediv', 'truncate', 'tz_convert', 'tz_localize', 'unstack', 'update', 'value_counts', 'values', 'var', 'where', 'xs']\n"
     ]
    }
   ],
   "source": [
    "print(dir(df))"
   ]
  },
  {
   "cell_type": "code",
   "execution_count": 17,
   "id": "5874a152",
   "metadata": {},
   "outputs": [
    {
     "ename": "IndexError",
     "evalue": "list index out of range",
     "output_type": "error",
     "traceback": [
      "\u001b[1;31m---------------------------------------------------------------------------\u001b[0m",
      "\u001b[1;31mIndexError\u001b[0m                                Traceback (most recent call last)",
      "\u001b[1;32m~\\AppData\\Local\\Temp\\ipykernel_24940\\2512272552.py\u001b[0m in \u001b[0;36m<module>\u001b[1;34m\u001b[0m\n\u001b[0;32m      6\u001b[0m \u001b[0mplt\u001b[0m\u001b[1;33m.\u001b[0m\u001b[0mhlines\u001b[0m\u001b[1;33m(\u001b[0m\u001b[0mmean\u001b[0m\u001b[1;33m,\u001b[0m\u001b[1;36m1\u001b[0m\u001b[1;33m,\u001b[0m\u001b[1;36m10\u001b[0m\u001b[1;33m,\u001b[0m\u001b[0mcolor\u001b[0m\u001b[1;33m=\u001b[0m\u001b[1;34m\"red\"\u001b[0m\u001b[1;33m)\u001b[0m\u001b[1;33m\u001b[0m\u001b[1;33m\u001b[0m\u001b[0m\n\u001b[0;32m      7\u001b[0m \u001b[1;32mfor\u001b[0m \u001b[0mv\u001b[0m \u001b[1;32min\u001b[0m \u001b[1;33m(\u001b[0m\u001b[1;36m1\u001b[0m\u001b[1;33m,\u001b[0m\u001b[1;36m11\u001b[0m\u001b[1;33m)\u001b[0m\u001b[1;33m:\u001b[0m\u001b[1;33m\u001b[0m\u001b[1;33m\u001b[0m\u001b[0m\n\u001b[1;32m----> 8\u001b[1;33m     \u001b[0mplt\u001b[0m\u001b[1;33m.\u001b[0m\u001b[0mvlines\u001b[0m\u001b[1;33m(\u001b[0m\u001b[0mv\u001b[0m\u001b[1;33m,\u001b[0m\u001b[0mdata\u001b[0m\u001b[1;33m[\u001b[0m\u001b[0mv\u001b[0m\u001b[1;33m-\u001b[0m\u001b[1;36m1\u001b[0m\u001b[1;33m]\u001b[0m\u001b[1;33m,\u001b[0m\u001b[0mmean\u001b[0m\u001b[1;33m,\u001b[0m\u001b[0mcolor\u001b[0m\u001b[1;33m=\u001b[0m\u001b[1;34m\"Green\"\u001b[0m\u001b[1;33m,\u001b[0m\u001b[0mls\u001b[0m\u001b[1;33m=\u001b[0m\u001b[1;34m\"--\"\u001b[0m\u001b[1;33m)\u001b[0m\u001b[1;33m\u001b[0m\u001b[1;33m\u001b[0m\u001b[0m\n\u001b[0m\u001b[0;32m      9\u001b[0m \u001b[0mplt\u001b[0m\u001b[1;33m.\u001b[0m\u001b[0mshow\u001b[0m\u001b[1;33m(\u001b[0m\u001b[1;33m)\u001b[0m\u001b[1;33m\u001b[0m\u001b[1;33m\u001b[0m\u001b[0m\n",
      "\u001b[1;31mIndexError\u001b[0m: list index out of range"
     ]
    },
    {
     "data": {
      "image/png": "[encoded data removed]",
      "text/plain": [
       "<Figure size 640x480 with 1 Axes>"
      ]
     },
     "metadata": {},
     "output_type": "display_data"
    }
   ],
   "source": [
    "import matplotlib.pyplot as plt\n",
    "x=[1,2,3,4,5,6,7,8,9,10]\n",
    "data = [10,20,20,20,30,30,40,40,80,90]\n",
    "mean=sum(data)/len(x)\n",
    "plt.scatter(x,data)\n",
    "plt.hlines(mean,1,10,color=\"red\")\n",
    "for v in (1,11):\n",
    "    plt.vlines(v,data[v-1],mean,color=\"Green\",ls=\"--\")\n",
    "plt.show()\n"
   ]
  },
  {
   "cell_type": "code",
   "execution_count": 32,
   "id": "6df44210",
   "metadata": {},
   "outputs": [
    {
     "name": "stdout",
     "output_type": "stream",
     "text": [
      "32.27272727272727\n"
     ]
    },
    {
     "data": {
      "text/plain": [
       "<matplotlib.collections.PathCollection at 0x1db68970a30>"
      ]
     },
     "execution_count": 32,
     "metadata": {},
     "output_type": "execute_result"
    },
    {
     "data": {
      "image/png": "[encoded data removed]",
      "text/plain": [
       "<Figure size 640x480 with 1 Axes>"
      ]
     },
     "metadata": {},
     "output_type": "display_data"
    }
   ],
   "source": [
    "import matplotlib.pyplot as plt\n",
    "X=[10,20,10,30,50,10,60,20,10,20,30,90,60,20,50,60,50,40,30,10,0,30]\n",
    "n=len(X)\n",
    "mean = sum(X)/n\n",
    "print(mean)\n",
    "plt.scatter(range(n),X)\n",
    "median=\n"
   ]
  },
  {
   "cell_type": "code",
   "execution_count": 54,
   "id": "5a4641a8",
   "metadata": {},
   "outputs": [
    {
     "ename": "AttributeError",
     "evalue": "'Series' object has no attribute 'astimezone'",
     "output_type": "error",
     "traceback": [
      "\u001b[1;31m---------------------------------------------------------------------------\u001b[0m",
      "\u001b[1;31mAttributeError\u001b[0m                            Traceback (most recent call last)",
      "\u001b[1;32m~\\AppData\\Local\\Temp\\ipykernel_11620\\3334558683.py\u001b[0m in \u001b[0;36m<module>\u001b[1;34m\u001b[0m\n\u001b[0;32m      7\u001b[0m \u001b[0mx\u001b[0m\u001b[1;33m.\u001b[0m\u001b[0mhead\u001b[0m\u001b[1;33m(\u001b[0m\u001b[1;33m)\u001b[0m\u001b[1;33m\u001b[0m\u001b[1;33m\u001b[0m\u001b[0m\n\u001b[0;32m      8\u001b[0m \u001b[1;32mfor\u001b[0m \u001b[0mi\u001b[0m \u001b[1;32min\u001b[0m \u001b[0mx\u001b[0m\u001b[1;33m:\u001b[0m\u001b[1;33m\u001b[0m\u001b[1;33m\u001b[0m\u001b[0m\n\u001b[1;32m----> 9\u001b[1;33m         \u001b[0mx\u001b[0m\u001b[1;33m[\u001b[0m\u001b[1;34m\"now_hk\"\u001b[0m\u001b[1;33m]\u001b[0m \u001b[1;33m=\u001b[0m \u001b[0mx\u001b[0m\u001b[1;33m[\u001b[0m\u001b[1;34m\"Date(UTC)\"\u001b[0m\u001b[1;33m]\u001b[0m\u001b[1;33m.\u001b[0m\u001b[0mastimezone\u001b[0m\u001b[1;33m(\u001b[0m\u001b[0mtimezone\u001b[0m\u001b[1;33m(\u001b[0m\u001b[1;34m'Asia/Hong_Kong'\u001b[0m\u001b[1;33m)\u001b[0m\u001b[1;33m)\u001b[0m\u001b[1;33m\u001b[0m\u001b[1;33m\u001b[0m\u001b[0m\n\u001b[0m\u001b[0;32m     10\u001b[0m         \u001b[0mx\u001b[0m\u001b[1;33m[\u001b[0m\u001b[1;34m\"HK\"\u001b[0m\u001b[1;33m]\u001b[0m\u001b[1;33m=\u001b[0m\u001b[0mnow_hk\u001b[0m\u001b[1;33m.\u001b[0m\u001b[0mstrftime\u001b[0m\u001b[1;33m(\u001b[0m\u001b[0mformat\u001b[0m\u001b[1;33m)\u001b[0m\u001b[1;33m\u001b[0m\u001b[1;33m\u001b[0m\u001b[0m\n\u001b[0;32m     11\u001b[0m \u001b[0mprint\u001b[0m\u001b[1;33m(\u001b[0m\u001b[0mx\u001b[0m\u001b[1;33m)\u001b[0m\u001b[1;33m\u001b[0m\u001b[1;33m\u001b[0m\u001b[0m\n",
      "\u001b[1;32mC:\\ProgramData\\Anaconda3\\lib\\site-packages\\pandas\\core\\generic.py\u001b[0m in \u001b[0;36m__getattr__\u001b[1;34m(self, name)\u001b[0m\n\u001b[0;32m   5573\u001b[0m         ):\n\u001b[0;32m   5574\u001b[0m             \u001b[1;32mreturn\u001b[0m \u001b[0mself\u001b[0m\u001b[1;33m[\u001b[0m\u001b[0mname\u001b[0m\u001b[1;33m]\u001b[0m\u001b[1;33m\u001b[0m\u001b[1;33m\u001b[0m\u001b[0m\n\u001b[1;32m-> 5575\u001b[1;33m         \u001b[1;32mreturn\u001b[0m \u001b[0mobject\u001b[0m\u001b[1;33m.\u001b[0m\u001b[0m__getattribute__\u001b[0m\u001b[1;33m(\u001b[0m\u001b[0mself\u001b[0m\u001b[1;33m,\u001b[0m \u001b[0mname\u001b[0m\u001b[1;33m)\u001b[0m\u001b[1;33m\u001b[0m\u001b[1;33m\u001b[0m\u001b[0m\n\u001b[0m\u001b[0;32m   5576\u001b[0m \u001b[1;33m\u001b[0m\u001b[0m\n\u001b[0;32m   5577\u001b[0m     \u001b[1;32mdef\u001b[0m \u001b[0m__setattr__\u001b[0m\u001b[1;33m(\u001b[0m\u001b[0mself\u001b[0m\u001b[1;33m,\u001b[0m \u001b[0mname\u001b[0m\u001b[1;33m:\u001b[0m \u001b[0mstr\u001b[0m\u001b[1;33m,\u001b[0m \u001b[0mvalue\u001b[0m\u001b[1;33m)\u001b[0m \u001b[1;33m->\u001b[0m \u001b[1;32mNone\u001b[0m\u001b[1;33m:\u001b[0m\u001b[1;33m\u001b[0m\u001b[1;33m\u001b[0m\u001b[0m\n",
      "\u001b[1;31mAttributeError\u001b[0m: 'Series' object has no attribute 'astimezone'"
     ]
    }
   ],
   "source": [
    "import pandas as pd\n",
    "from datetime import datetime\n",
    "from pytz import timezone\n",
    "\n",
    "x=pd.read_csv(\"C:\\D_Drive\\\\a.csv\")\n",
    "format = \"%Y-%m-%d %H:%M:%S %Z%z\"\n",
    "x.head()\n",
    "for i in x:\n",
    "        x[\"now_hk\"] = x[\"Date(UTC)\"].astimezone(timezone(\"Asia/Hong_Kong\"))\n",
    "        x[\"HK\"]=now_hk.strftime(format)\n",
    "print(x)\n",
    "\n",
    "\n",
    "\n"
   ]
  },
  {
   "cell_type": "code",
   "execution_count": 50,
   "id": "22b24728",
   "metadata": {},
   "outputs": [
    {
     "name": "stdout",
     "output_type": "stream",
     "text": [
      "2023-02-13 07:52:19 UTC+0000\n"
     ]
    }
   ],
   "source": [
    "from datetime import datetime\n",
    "from pytz import timezone\n",
    " \n",
    "format = \"%Y-%m-%d %H:%M:%S %Z%z\"\n",
    " \n",
    "# Current time in UTC\n",
    "now_utc = datetime.now(timezone('UTC'))\n",
    "print(now_utc.strftime(format))\n",
    "\n"
   ]
  },
  {
   "cell_type": "code",
   "execution_count": 58,
   "id": "79dafd8e",
   "metadata": {},
   "outputs": [
    {
     "ename": "ValueError",
     "evalue": "substring not found",
     "output_type": "error",
     "traceback": [
      "\u001b[1;31m---------------------------------------------------------------------------\u001b[0m",
      "\u001b[1;31mValueError\u001b[0m                                Traceback (most recent call last)",
      "\u001b[1;32m~\\AppData\\Local\\Temp\\ipykernel_11620\\3927716300.py\u001b[0m in \u001b[0;36m<module>\u001b[1;34m\u001b[0m\n\u001b[0;32m      1\u001b[0m \u001b[0mtxt\u001b[0m \u001b[1;33m=\u001b[0m \u001b[1;34m\"Hello, welcome eeo my world.\"\u001b[0m\u001b[1;33m\u001b[0m\u001b[1;33m\u001b[0m\u001b[0m\n\u001b[0;32m      2\u001b[0m \u001b[1;33m\u001b[0m\u001b[0m\n\u001b[1;32m----> 3\u001b[1;33m \u001b[0mx\u001b[0m \u001b[1;33m=\u001b[0m \u001b[0mtxt\u001b[0m\u001b[1;33m.\u001b[0m\u001b[0mindex\u001b[0m\u001b[1;33m(\u001b[0m\u001b[1;34m\"d\"\u001b[0m\u001b[1;33m,\u001b[0m \u001b[1;36m5\u001b[0m\u001b[1;33m,\u001b[0m \u001b[1;36m10\u001b[0m\u001b[1;33m)\u001b[0m\u001b[1;33m\u001b[0m\u001b[1;33m\u001b[0m\u001b[0m\n\u001b[0m\u001b[0;32m      4\u001b[0m \u001b[1;33m\u001b[0m\u001b[0m\n\u001b[0;32m      5\u001b[0m \u001b[0mprint\u001b[0m\u001b[1;33m(\u001b[0m\u001b[0mx\u001b[0m\u001b[1;33m)\u001b[0m\u001b[1;33m\u001b[0m\u001b[1;33m\u001b[0m\u001b[0m\n",
      "\u001b[1;31mValueError\u001b[0m: substring not found"
     ]
    }
   ],
   "source": [
    "txt = \"Hello, welcome eeo my world.\"\n",
    "\n",
    "x = txt.index(\"d\", 5, 10)\n",
    "\n",
    "print(x)"
   ]
  },
  {
   "cell_type": "code",
   "execution_count": 74,
   "id": "49d76b44",
   "metadata": {},
   "outputs": [
    {
     "name": "stdout",
     "output_type": "stream",
     "text": [
      "                                           Machine Learning \n"
     ]
    }
   ],
   "source": [
    "s = 'Machine Learning '\n",
    "s=s.strip(\"Learning\")\n",
    "print(s)"
   ]
  },
  {
   "cell_type": "code",
   "execution_count": 76,
   "id": "64a836b2",
   "metadata": {},
   "outputs": [
    {
     "name": "stdout",
     "output_type": "stream",
     "text": [
      "xyz 3+2\n"
     ]
    }
   ],
   "source": [
    "class myerror(Exception):\n",
    "    def __init__(self,value):\n",
    "        self.value=value\n",
    "    def __str__(self):\n",
    "        return(repr(self.value))\n",
    "try:\n",
    "    raise(myerror(\"3+2\"))\n",
    "    \n",
    "except myerror as error:\n",
    "    print(\"xyz\",error.value)"
   ]
  },
  {
   "cell_type": "code",
   "execution_count": 80,
   "id": "4f2eaa7e",
   "metadata": {},
   "outputs": [
    {
     "name": "stdout",
     "output_type": "stream",
     "text": [
      "3 11\n"
     ]
    }
   ],
   "source": [
    "def func(s):\n",
    "    x=0\n",
    "    y=0\n",
    "    for i in s:\n",
    "        if i.isupper()==1:\n",
    "            x=x+1\n",
    "        elif i.islower()==1:\n",
    "            y=y+1   \n",
    "    return x,y\n",
    "x,y=func(\"I love My Country\")\n",
    "print(x,y)\n",
    "\n"
   ]
  },
  {
   "cell_type": "code",
   "execution_count": 82,
   "id": "61010eca",
   "metadata": {},
   "outputs": [
    {
     "name": "stdout",
     "output_type": "stream",
     "text": [
      "(0, 0) (0, 1) (0, 2) \n",
      " ********************\n",
      "(1, 0) (1, 1) (1, 2) \n",
      " ********************\n",
      "(2, 0) (2, 1) (2, 2) \n",
      " ********************\n",
      "(3, 0) (3, 1) (3, 2) \n",
      " ********************\n"
     ]
    }
   ],
   "source": [
    "x=0\n",
    "while x<4:\n",
    "    y=0\n",
    "    while y<3:\n",
    "        print((x,y),end=\" \")\n",
    "        y=y+1\n",
    "    print(\"\\n\",\"*\"*20)\n",
    "    x=x+1\n",
    "    "
   ]
  },
  {
   "cell_type": "code",
   "execution_count": 91,
   "id": "d96c35a6",
   "metadata": {},
   "outputs": [
    {
     "name": "stdout",
     "output_type": "stream",
     "text": [
      "  W W W W \n",
      "    W W W \n",
      "      W W \n",
      "        W \n",
      "          \n"
     ]
    }
   ],
   "source": [
    "row=0\n",
    "while row<5:\n",
    "    col=0\n",
    "    while col<5:\n",
    "        if col<=row:\n",
    "            print(\" \",end=' ')\n",
    "        else:\n",
    "            print(\"W\",end=\" \")\n",
    "        col+=1\n",
    "    print()\n",
    "    row=row+1"
   ]
  },
  {
   "cell_type": "code",
   "execution_count": 90,
   "id": "260f91da",
   "metadata": {},
   "outputs": [
    {
     "name": "stdout",
     "output_type": "stream",
     "text": [
      "* * * * * * * * * * * \n",
      "* * * * * * * * * * * \n",
      "* * * * * * * * * * * \n",
      "* * * * * * * * * * * \n",
      "* * * * * * * * * * * \n",
      "* * * * * * * * * * * \n",
      "* * * * * * * * * * * \n",
      "* * * * * * * * * * * \n",
      "* * * * * * * * * * * \n",
      "* * * * * * * * * * * \n",
      "* * * * * * * * * * * \n"
     ]
    }
   ],
   "source": [
    "for row in range(11):\n",
    "    for col in range(11):\n",
    "        print(\"*\",end=\" \")\n",
    "    print()"
   ]
  },
  {
   "cell_type": "code",
   "execution_count": 98,
   "id": "ae8feb26",
   "metadata": {},
   "outputs": [
    {
     "name": "stdout",
     "output_type": "stream",
     "text": [
      "  * * * * * * * * * * \n",
      "$    * * * * * * * * * \n",
      "$  $    * * * * * * * * \n",
      "$  $  $    * * * * * * * \n",
      "$  $  $  $    * * * * * * \n",
      "$  $  $  $  $    * * * * * \n",
      "$  $  $  $  $  $    * * * * \n",
      "$  $  $  $  $  $  $    * * * \n",
      "$  $  $  $  $  $  $  $    * * \n",
      "$  $  $  $  $  $  $  $  $    * \n",
      "$  $  $  $  $  $  $  $  $  $    \n"
     ]
    }
   ],
   "source": [
    "for row in range(11):\n",
    "    for col in range(11):\n",
    "        if row>col:\n",
    "            print(\"$ \",end=\" \")\n",
    "        elif col>row:\n",
    "            print(\"*\",end=\" \")\n",
    "        elif row==col:\n",
    "            print(\" \",end=\" \")\n",
    "    print()"
   ]
  },
  {
   "cell_type": "code",
   "execution_count": 104,
   "id": "f9e504a3",
   "metadata": {},
   "outputs": [
    {
     "name": "stdout",
     "output_type": "stream",
     "text": [
      "hello\n"
     ]
    }
   ],
   "source": [
    "ref=lambda :print(\"hello\")\n",
    "ref()\n"
   ]
  },
  {
   "cell_type": "code",
   "execution_count": 113,
   "id": "2c047526",
   "metadata": {},
   "outputs": [
    {
     "name": "stdout",
     "output_type": "stream",
     "text": [
      "13\n"
     ]
    }
   ],
   "source": [
    "ref=lambda x,y:x**2+y**2\n",
    "print(ref(2,3))"
   ]
  },
  {
   "cell_type": "code",
   "execution_count": 114,
   "id": "620a58d6",
   "metadata": {},
   "outputs": [
    {
     "name": "stdout",
     "output_type": "stream",
     "text": [
      "C:\\Users\\raj.anand\\Desktop\n"
     ]
    }
   ],
   "source": [
    "import os \n",
    "print(os.getcwd())"
   ]
  },
  {
   "cell_type": "code",
   "execution_count": 115,
   "id": "a65d1427",
   "metadata": {},
   "outputs": [
    {
     "name": "stdout",
     "output_type": "stream",
     "text": [
      "<module 'ntpath' from 'C:\\\\ProgramData\\\\Anaconda3\\\\lib\\\\ntpath.py'>\n"
     ]
    }
   ],
   "source": [
    "print(os.path)"
   ]
  },
  {
   "cell_type": "code",
   "execution_count": 122,
   "id": "4e13c455",
   "metadata": {},
   "outputs": [
    {
     "name": "stdout",
     "output_type": "stream",
     "text": [
      "None\n",
      "[89 89 90 45] [45 89 89 90]\n"
     ]
    }
   ],
   "source": [
    "import numpy as np\n",
    "a=[89,89,90,45]\n",
    "print(a.sort())\n",
    "x=np.array(weight)\n",
    "y=np.sort(x)\n",
    "print(x,y)"
   ]
  },
  {
   "cell_type": "code",
   "execution_count": 1,
   "id": "82aa91d2",
   "metadata": {},
   "outputs": [
    {
     "name": "stdout",
     "output_type": "stream",
     "text": [
      "[2 8 4 5 3 2 5 8 2 6 5 4 9 8 8 4 9 5 7 1]\n"
     ]
    }
   ],
   "source": [
    "import numpy as np\n",
    "a=np.random.randint(1,10,20)\n",
    "b=np.\n",
    "print(a)"
   ]
  },
  {
   "cell_type": "code",
   "execution_count": 2,
   "id": "5e9a51ec",
   "metadata": {},
   "outputs": [
    {
     "name": "stdout",
     "output_type": "stream",
     "text": [
      "[[ 7  1  2  8]\n",
      " [ 7  3  8  9]\n",
      " [ 3  7  2  1]\n",
      " [ 2  5  8  7]\n",
      " [ 8  8  8 10]]\n"
     ]
    }
   ],
   "source": [
    "import numpy as np\n",
    "import random\n",
    "data =np.random.randint(1,11,20).reshape(5,4)\n",
    "print(data)"
   ]
  },
  {
   "cell_type": "code",
   "execution_count": 18,
   "id": "fd6086fc",
   "metadata": {},
   "outputs": [
    {
     "name": "stdout",
     "output_type": "stream",
     "text": [
      "[18 27 13 22 34]\n",
      "[4.5  6.75 3.25 5.5  8.5 ]\n"
     ]
    },
    {
     "data": {
      "image/png": "[encoded data removed]",
      "text/plain": [
       "<Figure size 640x480 with 1 Axes>"
      ]
     },
     "metadata": {},
     "output_type": "display_data"
    }
   ],
   "source": [
    "import matplotlib.pyplot as plt\n",
    "sum=data.sum(axis=1)\n",
    "print(sum)\n",
    "avg=data.mean(axis=1)\n",
    "print(avg)\n",
    "np.median(data,axis=1)\n",
    "np.std(data,axis=1)\n",
    "lable=[\"A\",\"B\",\"C\",\"D\",\"E\"]\n",
    "plt.bar(lable,np.std(data,axis=1))\n",
    "plt.show()\n"
   ]
  },
  {
   "cell_type": "code",
   "execution_count": 28,
   "id": "d030d38d",
   "metadata": {},
   "outputs": [],
   "source": [
    "import random \n",
    "def mat_cre(n,m):\n",
    "    mat=[]\n",
    "    for row in range(n):\n",
    "        row=[]\n",
    "        for col in range(m):\n",
    "            row.append(random.randint(10,50))\n",
    "        mat.append(row)\n",
    "    return(mat)\n",
    "    \n"
   ]
  },
  {
   "cell_type": "code",
   "execution_count": 32,
   "id": "f1a6126b",
   "metadata": {},
   "outputs": [
    {
     "data": {
      "text/plain": [
       "array([[15, 19, 43, 21, 38],\n",
       "       [48, 39, 23, 24, 48],\n",
       "       [39, 21, 33, 21, 40],\n",
       "       [32, 26, 34, 10, 35]])"
      ]
     },
     "execution_count": 32,
     "metadata": {},
     "output_type": "execute_result"
    }
   ],
   "source": [
    "import numpy as np\n",
    "x=mat_cre(4,5)\n",
    "arr=np.array(x)\n",
    "arr"
   ]
  },
  {
   "cell_type": "code",
   "execution_count": 40,
   "id": "05632f7a",
   "metadata": {},
   "outputs": [
    {
     "data": {
      "text/plain": [
       "array([[38, 21, 43, 19, 15],\n",
       "       [48, 24, 23, 39, 48],\n",
       "       [40, 21, 33, 21, 39],\n",
       "       [35, 10, 34, 26, 32]])"
      ]
     },
     "execution_count": 40,
     "metadata": {},
     "output_type": "execute_result"
    }
   ],
   "source": [
    "arr[::1,::-1]"
   ]
  },
  {
   "cell_type": "code",
   "execution_count": 43,
   "id": "f2218966",
   "metadata": {},
   "outputs": [
    {
     "name": "stdout",
     "output_type": "stream",
     "text": [
      "<class 'numpy.ndarray'>\n"
     ]
    }
   ],
   "source": [
    "import matplotlib.pyplot as plt\n",
    "img=plt.imread(\"image.jpg\")\n",
    "print(type(img))"
   ]
  },
  {
   "cell_type": "code",
   "execution_count": 46,
   "id": "6711e34d",
   "metadata": {},
   "outputs": [
    {
     "name": "stdout",
     "output_type": "stream",
     "text": [
      "(510, 1020, 3)\n",
      "3\n",
      "1560600\n",
      "uint8\n"
     ]
    }
   ],
   "source": [
    "print(img.shape)\n",
    "print(img.ndim)\n",
    "print(img.size)\n",
    "print(img.dtype)"
   ]
  },
  {
   "cell_type": "code",
   "execution_count": 51,
   "id": "f869325b",
   "metadata": {},
   "outputs": [
    {
     "data": {
      "text/plain": [
       "12192.1875"
      ]
     },
     "execution_count": 51,
     "metadata": {},
     "output_type": "execute_result"
    }
   ],
   "source": [
    "(1560600*8)/1024\n",
    "\n"
   ]
  },
  {
   "cell_type": "code",
   "execution_count": 126,
   "id": "d87ea29b",
   "metadata": {},
   "outputs": [
    {
     "data": {
      "text/plain": [
       "<matplotlib.image.AxesImage at 0x1e96f0d9460>"
      ]
     },
     "execution_count": 126,
     "metadata": {},
     "output_type": "execute_result"
    },
    {
     "data": {
      "image/png": "[encoded data removed]",
      "text/plain": [
       "<Figure size 640x480 with 1 Axes>"
      ]
     },
     "metadata": {},
     "output_type": "display_data"
    }
   ],
   "source": [
    "#print(img)\n",
    "img1=img[1:220,300:800,0]\n",
    "plt.imshow(img1)"
   ]
  },
  {
   "cell_type": "code",
   "execution_count": 53,
   "id": "35bdbf74",
   "metadata": {},
   "outputs": [
    {
     "data": {
      "text/plain": [
       "<matplotlib.image.AxesImage at 0x1e96b92d400>"
      ]
     },
     "execution_count": 53,
     "metadata": {},
     "output_type": "execute_result"
    },
    {
     "data": {
      "image/png": "[encoded data removed]",
      "text/plain": [
       "<Figure size 640x480 with 1 Axes>"
      ]
     },
     "metadata": {},
     "output_type": "display_data"
    }
   ],
   "source": [
    "plt.imshow(img)"
   ]
  },
  {
   "cell_type": "code",
   "execution_count": 54,
   "id": "585e174e",
   "metadata": {},
   "outputs": [
    {
     "name": "stdout",
     "output_type": "stream",
     "text": [
      "(510, 1020, 3)\n"
     ]
    }
   ],
   "source": [
    "print(img.shape)"
   ]
  },
  {
   "cell_type": "code",
   "execution_count": 56,
   "id": "a2e2e4ed",
   "metadata": {},
   "outputs": [
    {
     "data": {
      "text/plain": [
       "<matplotlib.image.AxesImage at 0x1e96c417190>"
      ]
     },
     "execution_count": 56,
     "metadata": {},
     "output_type": "execute_result"
    },
    {
     "data": {
      "image/png": "[encoded data removed]",
      "text/plain": [
       "<Figure size 640x480 with 1 Axes>"
      ]
     },
     "metadata": {},
     "output_type": "display_data"
    }
   ],
   "source": [
    "new_img=img.mean(axis=2)\n",
    "plt.imshow(new_img,cmap=\"binary\")"
   ]
  },
  {
   "cell_type": "code",
   "execution_count": 60,
   "id": "a0c07084",
   "metadata": {},
   "outputs": [
    {
     "data": {
      "text/plain": [
       "<matplotlib.image.AxesImage at 0x1e96c51f430>"
      ]
     },
     "execution_count": 60,
     "metadata": {},
     "output_type": "execute_result"
    },
    {
     "data": {
      "image/png": "[encoded data removed]",
      "text/plain": [
       "<Figure size 640x480 with 1 Axes>"
      ]
     },
     "metadata": {},
     "output_type": "display_data"
    }
   ],
   "source": [
    "##Red filter \n",
    "r_img=img.copy()\n",
    "r_img[:,:,1:]=0\n",
    "plt.imshow(r_img)"
   ]
  },
  {
   "cell_type": "code",
   "execution_count": 87,
   "id": "40eb34fb",
   "metadata": {},
   "outputs": [
    {
     "name": "stdout",
     "output_type": "stream",
     "text": [
      "[0. 0. 0. 0. 0. 0. 0. 0. 0. 0.]\n",
      "[1. 1. 1. 1. 1. 1. 1. 1. 1. 1.]\n",
      "[5 5 5 5 5 5 5 5 5 5]\n",
      "[6. 6. 6. 6. 6. 6. 6. 6. 6. 6.]\n",
      "[48 35 46 48 21 37 15 31 29 26]\n",
      "[10 11 12 13 14 15 16 17 18 19 20 21 22 23 24 25 26 27 28 29 30 31 32 33\n",
      " 34 35 36 37 38 39 40 41 42 43 44 45 46 47 48 49]\n",
      "[[0 1 2]\n",
      " [3 4 5]\n",
      " [6 7 8]]\n",
      "[[0 3 6]\n",
      " [1 4 7]\n",
      " [2 5 8]]\n",
      "[[1. 0. 0. 0. 0.]\n",
      " [0. 1. 0. 0. 0.]\n",
      " [0. 0. 1. 0. 0.]\n",
      " [0. 0. 0. 1. 0.]\n",
      " [0. 0. 0. 0. 1.]]\n",
      "[[11 16 12]\n",
      " [16 15 14]\n",
      " [15 11 12]]\n",
      "0.10895079215706105\n"
     ]
    }
   ],
   "source": [
    "import numpy as np\n",
    "arr_0=np.zeros(10)# create and array of zeros\n",
    "arr_1=np.ones(10) # create an array of ones\n",
    "arr_5=np.full(10,5)# create an array of 10 element that is 5\n",
    "arr_6=np.ones(10)*6 # create an array of 10 element that is 6\n",
    "arr=np.random.randint(10,50,10) # create array of 10 number randomly between 10 to 50\n",
    "arr1=np.arange(10,50)# create array of number from 10 to 50\n",
    "arr2=np.arange(9).reshape((3,3)) # by default data fill with row wise \n",
    "arr3=np.arange(9).reshape((3,3),order=\"F\") # data fill column wise \n",
    "arr4=np.eye(5) # matrix of diggonal 1\n",
    "num1=np.random.randint(10,20,9).reshape((3,3),order=\"F\") # 9 random value between 10 & 20 and reshape in column wise \n",
    "num2=np.random.random()\n",
    "print(arr_0)\n",
    "print(arr_1)\n",
    "print(arr_5)\n",
    "print(arr_6)\n",
    "print(arr)\n",
    "print(arr1)\n",
    "print(arr2)\n",
    "print(arr3)\n",
    "print(arr4)\n",
    "print(num1)\n",
    "print(num2)\n"
   ]
  },
  {
   "cell_type": "code",
   "execution_count": 80,
   "id": "e0319e8b",
   "metadata": {},
   "outputs": [
    {
     "data": {
      "text/plain": [
       "array([ 0.55757322, -0.27135036, -1.27776144, -0.34500041,  0.02437804,\n",
       "       -0.54298408,  1.02413628,  1.22107274,  0.2111386 , -1.04658309,\n",
       "       -0.16233429,  0.93746445, -0.13070931, -0.57800392,  0.95375264,\n",
       "       -0.57949115, -0.82420078,  0.3751746 ,  1.3344545 ,  0.22939454,\n",
       "        1.14790922, -0.43692734,  0.11432902,  1.92170784,  0.15980594])"
      ]
     },
     "execution_count": 80,
     "metadata": {},
     "output_type": "execute_result"
    }
   ],
   "source": [
    "#use numpy to generate an array of 25 random numbers sampled from a standard normal distribution\n",
    "nd=np.random.normal(size=25)\n",
    "nd"
   ]
  },
  {
   "cell_type": "code",
   "execution_count": 84,
   "id": "ed21bfee",
   "metadata": {},
   "outputs": [
    {
     "data": {
      "text/plain": [
       "array([[0.01, 0.02, 0.03, 0.04, 0.05, 0.06, 0.07, 0.08, 0.09, 0.1 ],\n",
       "       [0.11, 0.12, 0.13, 0.14, 0.15, 0.16, 0.17, 0.18, 0.19, 0.2 ],\n",
       "       [0.21, 0.22, 0.23, 0.24, 0.25, 0.26, 0.27, 0.28, 0.29, 0.3 ],\n",
       "       [0.31, 0.32, 0.33, 0.34, 0.35, 0.36, 0.37, 0.38, 0.39, 0.4 ],\n",
       "       [0.41, 0.42, 0.43, 0.44, 0.45, 0.46, 0.47, 0.48, 0.49, 0.5 ],\n",
       "       [0.51, 0.52, 0.53, 0.54, 0.55, 0.56, 0.57, 0.58, 0.59, 0.6 ],\n",
       "       [0.61, 0.62, 0.63, 0.64, 0.65, 0.66, 0.67, 0.68, 0.69, 0.7 ],\n",
       "       [0.71, 0.72, 0.73, 0.74, 0.75, 0.76, 0.77, 0.78, 0.79, 0.8 ],\n",
       "       [0.81, 0.82, 0.83, 0.84, 0.85, 0.86, 0.87, 0.88, 0.89, 0.9 ],\n",
       "       [0.91, 0.92, 0.93, 0.94, 0.95, 0.96, 0.97, 0.98, 0.99, 1.  ]])"
      ]
     },
     "execution_count": 84,
     "metadata": {},
     "output_type": "execute_result"
    }
   ],
   "source": [
    "num3=np.arange(0.01,1.01,0.01).reshape((10,))\n",
    "num3"
   ]
  },
  {
   "cell_type": "code",
   "execution_count": 128,
   "id": "61d1cb56",
   "metadata": {},
   "outputs": [
    {
     "data": {
      "text/plain": [
       "array([[ 1,  2,  3,  4,  5],\n",
       "       [ 6,  7,  8,  9, 10],\n",
       "       [11, 12, 13, 14, 15],\n",
       "       [16, 17, 18, 19, 20],\n",
       "       [21, 22, 23, 24, 25]])"
      ]
     },
     "execution_count": 128,
     "metadata": {},
     "output_type": "execute_result"
    }
   ],
   "source": [
    "mat=np.arange(1,26).reshape((5,5))\n",
    "mat\n"
   ]
  },
  {
   "cell_type": "code",
   "execution_count": 135,
   "id": "a3a29e88",
   "metadata": {},
   "outputs": [
    {
     "data": {
      "text/plain": [
       "array([60, 65, 70, 75])"
      ]
     },
     "execution_count": 135,
     "metadata": {},
     "output_type": "execute_result"
    }
   ],
   "source": [
    "total=mat[:,1:].sum(axis=0)\n",
    "total"
   ]
  },
  {
   "cell_type": "code",
   "execution_count": 98,
   "id": "f72d0620",
   "metadata": {},
   "outputs": [
    {
     "data": {
      "text/plain": [
       "20"
      ]
     },
     "execution_count": 98,
     "metadata": {},
     "output_type": "execute_result"
    }
   ],
   "source": [
    "mat[3,-1]"
   ]
  },
  {
   "cell_type": "code",
   "execution_count": 101,
   "id": "9c5270c5",
   "metadata": {},
   "outputs": [
    {
     "data": {
      "text/plain": [
       "array([[ 2],\n",
       "       [ 7],\n",
       "       [12]])"
      ]
     },
     "execution_count": 101,
     "metadata": {},
     "output_type": "execute_result"
    }
   ],
   "source": [
    "mat[0:3,1:2]"
   ]
  },
  {
   "cell_type": "code",
   "execution_count": 102,
   "id": "b71593cf",
   "metadata": {},
   "outputs": [
    {
     "data": {
      "text/plain": [
       "array([21, 22, 23, 24, 25])"
      ]
     },
     "execution_count": 102,
     "metadata": {},
     "output_type": "execute_result"
    }
   ],
   "source": [
    "mat[-1]"
   ]
  },
  {
   "cell_type": "code",
   "execution_count": 103,
   "id": "70a6d7b6",
   "metadata": {},
   "outputs": [
    {
     "data": {
      "text/plain": [
       "array([[[5, 7, 2],\n",
       "        [3, 1, 9],\n",
       "        [9, 1, 7]],\n",
       "\n",
       "       [[1, 5, 3],\n",
       "        [3, 2, 6],\n",
       "        [3, 5, 5]],\n",
       "\n",
       "       [[6, 7, 6],\n",
       "        [3, 2, 8],\n",
       "        [9, 6, 5]]])"
      ]
     },
     "execution_count": 103,
     "metadata": {},
     "output_type": "execute_result"
    }
   ],
   "source": [
    "arr=np.random.randint(1,10,27).reshape(3,3,3)\n",
    "arr"
   ]
  },
  {
   "cell_type": "raw",
   "id": "fd885c8f",
   "metadata": {},
   "source": [
    "arr[axis-0,axis-1,axis-2]\n",
    "#record,row,column\n"
   ]
  },
  {
   "cell_type": "code",
   "execution_count": 104,
   "id": "0998c470",
   "metadata": {},
   "outputs": [
    {
     "name": "stdout",
     "output_type": "stream",
     "text": [
      "[[[5 7 2]\n",
      "  [3 1 9]\n",
      "  [9 1 7]]\n",
      "\n",
      " [[1 5 3]\n",
      "  [3 2 6]\n",
      "  [3 5 5]]\n",
      "\n",
      " [[6 7 6]\n",
      "  [3 2 8]\n",
      "  [9 6 5]]]\n"
     ]
    }
   ],
   "source": [
    "print(arr)"
   ]
  },
  {
   "cell_type": "code",
   "execution_count": 116,
   "id": "c9ce071c",
   "metadata": {},
   "outputs": [
    {
     "data": {
      "text/plain": [
       "array([3, 2, 6])"
      ]
     },
     "execution_count": 116,
     "metadata": {},
     "output_type": "execute_result"
    }
   ],
   "source": [
    "arr[1,1,]"
   ]
  },
  {
   "cell_type": "code",
   "execution_count": 10,
   "id": "b473e8ad",
   "metadata": {},
   "outputs": [
    {
     "data": {
      "text/html": [
       "<div>\n",
       "<style scoped>\n",
       "    .dataframe tbody tr th:only-of-type {\n",
       "        vertical-align: middle;\n",
       "    }\n",
       "\n",
       "    .dataframe tbody tr th {\n",
       "        vertical-align: top;\n",
       "    }\n",
       "\n",
       "    .dataframe thead th {\n",
       "        text-align: right;\n",
       "    }\n",
       "</style>\n",
       "<table border=\"1\" class=\"dataframe\">\n",
       "  <thead>\n",
       "    <tr style=\"text-align: right;\">\n",
       "      <th></th>\n",
       "      <th>Segment</th>\n",
       "      <th>Country</th>\n",
       "      <th>Product</th>\n",
       "      <th>Discount Band</th>\n",
       "      <th>Units Sold</th>\n",
       "      <th>Manufacturing Price</th>\n",
       "      <th>Sale Price</th>\n",
       "      <th>Gross Sales</th>\n",
       "      <th>Discounts</th>\n",
       "      <th>Sales</th>\n",
       "      <th>COGS</th>\n",
       "      <th>Profit</th>\n",
       "      <th>Date</th>\n",
       "      <th>Month Number</th>\n",
       "      <th>Month Name</th>\n",
       "      <th>Year</th>\n",
       "    </tr>\n",
       "  </thead>\n",
       "  <tbody>\n",
       "    <tr>\n",
       "      <th>0</th>\n",
       "      <td>Government</td>\n",
       "      <td>Canada</td>\n",
       "      <td>Carretera</td>\n",
       "      <td>None</td>\n",
       "      <td>1618.5</td>\n",
       "      <td>$3.00</td>\n",
       "      <td>$20.00</td>\n",
       "      <td>$32,370.00</td>\n",
       "      <td>$-</td>\n",
       "      <td>$32,370.00</td>\n",
       "      <td>$16,185.00</td>\n",
       "      <td>$16,185.00</td>\n",
       "      <td>01-01-2014</td>\n",
       "      <td>1</td>\n",
       "      <td>January</td>\n",
       "      <td>2014</td>\n",
       "    </tr>\n",
       "    <tr>\n",
       "      <th>2</th>\n",
       "      <td>Midmarket</td>\n",
       "      <td>France</td>\n",
       "      <td>Carretera</td>\n",
       "      <td>None</td>\n",
       "      <td>2178.0</td>\n",
       "      <td>$3.00</td>\n",
       "      <td>$15.00</td>\n",
       "      <td>$32,670.00</td>\n",
       "      <td>$-</td>\n",
       "      <td>$32,670.00</td>\n",
       "      <td>$21,780.00</td>\n",
       "      <td>$10,890.00</td>\n",
       "      <td>01-06-2014</td>\n",
       "      <td>6</td>\n",
       "      <td>June</td>\n",
       "      <td>2014</td>\n",
       "    </tr>\n",
       "    <tr>\n",
       "      <th>7</th>\n",
       "      <td>Channel Partners</td>\n",
       "      <td>Canada</td>\n",
       "      <td>Montana</td>\n",
       "      <td>None</td>\n",
       "      <td>2518.0</td>\n",
       "      <td>$5.00</td>\n",
       "      <td>$12.00</td>\n",
       "      <td>$30,216.00</td>\n",
       "      <td>$-</td>\n",
       "      <td>$30,216.00</td>\n",
       "      <td>$7,554.00</td>\n",
       "      <td>$22,662.00</td>\n",
       "      <td>01-06-2014</td>\n",
       "      <td>6</td>\n",
       "      <td>June</td>\n",
       "      <td>2014</td>\n",
       "    </tr>\n",
       "    <tr>\n",
       "      <th>8</th>\n",
       "      <td>Government</td>\n",
       "      <td>France</td>\n",
       "      <td>Montana</td>\n",
       "      <td>None</td>\n",
       "      <td>1899.0</td>\n",
       "      <td>$5.00</td>\n",
       "      <td>$20.00</td>\n",
       "      <td>$37,980.00</td>\n",
       "      <td>$-</td>\n",
       "      <td>$37,980.00</td>\n",
       "      <td>$18,990.00</td>\n",
       "      <td>$18,990.00</td>\n",
       "      <td>01-06-2014</td>\n",
       "      <td>6</td>\n",
       "      <td>June</td>\n",
       "      <td>2014</td>\n",
       "    </tr>\n",
       "    <tr>\n",
       "      <th>11</th>\n",
       "      <td>Enterprise</td>\n",
       "      <td>Canada</td>\n",
       "      <td>Montana</td>\n",
       "      <td>None</td>\n",
       "      <td>2665.5</td>\n",
       "      <td>$5.00</td>\n",
       "      <td>$125.00</td>\n",
       "      <td>$333,187.50</td>\n",
       "      <td>$-</td>\n",
       "      <td>$333,187.50</td>\n",
       "      <td>$319,860.00</td>\n",
       "      <td>$13,327.50</td>\n",
       "      <td>01-07-2014</td>\n",
       "      <td>7</td>\n",
       "      <td>July</td>\n",
       "      <td>2014</td>\n",
       "    </tr>\n",
       "    <tr>\n",
       "      <th>...</th>\n",
       "      <td>...</td>\n",
       "      <td>...</td>\n",
       "      <td>...</td>\n",
       "      <td>...</td>\n",
       "      <td>...</td>\n",
       "      <td>...</td>\n",
       "      <td>...</td>\n",
       "      <td>...</td>\n",
       "      <td>...</td>\n",
       "      <td>...</td>\n",
       "      <td>...</td>\n",
       "      <td>...</td>\n",
       "      <td>...</td>\n",
       "      <td>...</td>\n",
       "      <td>...</td>\n",
       "      <td>...</td>\n",
       "    </tr>\n",
       "    <tr>\n",
       "      <th>688</th>\n",
       "      <td>Government</td>\n",
       "      <td>Canada</td>\n",
       "      <td>VTT</td>\n",
       "      <td>High</td>\n",
       "      <td>865.5</td>\n",
       "      <td>$250.00</td>\n",
       "      <td>$20.00</td>\n",
       "      <td>$17,310.00</td>\n",
       "      <td>$2,596.50</td>\n",
       "      <td>$14,713.50</td>\n",
       "      <td>$8,655.00</td>\n",
       "      <td>$6,058.50</td>\n",
       "      <td>01-07-2014</td>\n",
       "      <td>7</td>\n",
       "      <td>July</td>\n",
       "      <td>2014</td>\n",
       "    </tr>\n",
       "    <tr>\n",
       "      <th>692</th>\n",
       "      <td>Enterprise</td>\n",
       "      <td>Canada</td>\n",
       "      <td>VTT</td>\n",
       "      <td>High</td>\n",
       "      <td>2954.0</td>\n",
       "      <td>$250.00</td>\n",
       "      <td>$125.00</td>\n",
       "      <td>$369,250.00</td>\n",
       "      <td>$55,387.50</td>\n",
       "      <td>$313,862.50</td>\n",
       "      <td>$354,480.00</td>\n",
       "      <td>$(40,617.50)</td>\n",
       "      <td>01-11-2013</td>\n",
       "      <td>11</td>\n",
       "      <td>November</td>\n",
       "      <td>2013</td>\n",
       "    </tr>\n",
       "    <tr>\n",
       "      <th>694</th>\n",
       "      <td>Government</td>\n",
       "      <td>France</td>\n",
       "      <td>VTT</td>\n",
       "      <td>High</td>\n",
       "      <td>293.0</td>\n",
       "      <td>$250.00</td>\n",
       "      <td>$20.00</td>\n",
       "      <td>$5,860.00</td>\n",
       "      <td>$879.00</td>\n",
       "      <td>$4,981.00</td>\n",
       "      <td>$2,930.00</td>\n",
       "      <td>$2,051.00</td>\n",
       "      <td>01-12-2014</td>\n",
       "      <td>12</td>\n",
       "      <td>December</td>\n",
       "      <td>2014</td>\n",
       "    </tr>\n",
       "    <tr>\n",
       "      <th>695</th>\n",
       "      <td>Small Business</td>\n",
       "      <td>France</td>\n",
       "      <td>Amarilla</td>\n",
       "      <td>High</td>\n",
       "      <td>2475.0</td>\n",
       "      <td>$260.00</td>\n",
       "      <td>$300.00</td>\n",
       "      <td>$742,500.00</td>\n",
       "      <td>$111,375.00</td>\n",
       "      <td>$631,125.00</td>\n",
       "      <td>$618,750.00</td>\n",
       "      <td>$12,375.00</td>\n",
       "      <td>01-03-2014</td>\n",
       "      <td>3</td>\n",
       "      <td>March</td>\n",
       "      <td>2014</td>\n",
       "    </tr>\n",
       "    <tr>\n",
       "      <th>698</th>\n",
       "      <td>Government</td>\n",
       "      <td>Canada</td>\n",
       "      <td>Paseo</td>\n",
       "      <td>High</td>\n",
       "      <td>723.0</td>\n",
       "      <td>$10.00</td>\n",
       "      <td>$7.00</td>\n",
       "      <td>$5,061.00</td>\n",
       "      <td>$759.15</td>\n",
       "      <td>$4,301.85</td>\n",
       "      <td>$3,615.00</td>\n",
       "      <td>$686.85</td>\n",
       "      <td>01-04-2014</td>\n",
       "      <td>4</td>\n",
       "      <td>April</td>\n",
       "      <td>2014</td>\n",
       "    </tr>\n",
       "  </tbody>\n",
       "</table>\n",
       "<p>280 rows × 16 columns</p>\n",
       "</div>"
      ],
      "text/plain": [
       "              Segment Country     Product   Discount Band   Units Sold  \\\n",
       "0          Government  Canada   Carretera            None       1618.5   \n",
       "2           Midmarket  France   Carretera            None       2178.0   \n",
       "7    Channel Partners  Canada     Montana            None       2518.0   \n",
       "8          Government  France     Montana            None       1899.0   \n",
       "11         Enterprise  Canada     Montana            None       2665.5   \n",
       "..                ...     ...          ...             ...         ...   \n",
       "688        Government  Canada         VTT            High        865.5   \n",
       "692        Enterprise  Canada         VTT            High       2954.0   \n",
       "694        Government  France         VTT            High        293.0   \n",
       "695    Small Business  France    Amarilla            High       2475.0   \n",
       "698        Government  Canada       Paseo            High        723.0   \n",
       "\n",
       "     Manufacturing Price   Sale Price    Gross Sales      Discounts   \\\n",
       "0                  $3.00       $20.00     $32,370.00           $-      \n",
       "2                  $3.00       $15.00     $32,670.00           $-      \n",
       "7                  $5.00       $12.00     $30,216.00           $-      \n",
       "8                  $5.00       $20.00     $37,980.00           $-      \n",
       "11                 $5.00      $125.00    $333,187.50           $-      \n",
       "..                    ...          ...            ...            ...   \n",
       "688              $250.00       $20.00     $17,310.00      $2,596.50    \n",
       "692              $250.00      $125.00    $369,250.00     $55,387.50    \n",
       "694              $250.00       $20.00      $5,860.00        $879.00    \n",
       "695              $260.00      $300.00    $742,500.00    $111,375.00    \n",
       "698               $10.00        $7.00      $5,061.00        $759.15    \n",
       "\n",
       "            Sales           COGS         Profit         Date  Month Number  \\\n",
       "0      $32,370.00     $16,185.00     $16,185.00   01-01-2014             1   \n",
       "2      $32,670.00     $21,780.00     $10,890.00   01-06-2014             6   \n",
       "7      $30,216.00      $7,554.00     $22,662.00   01-06-2014             6   \n",
       "8      $37,980.00     $18,990.00     $18,990.00   01-06-2014             6   \n",
       "11    $333,187.50    $319,860.00     $13,327.50   01-07-2014             7   \n",
       "..             ...            ...            ...         ...           ...   \n",
       "688    $14,713.50      $8,655.00      $6,058.50   01-07-2014             7   \n",
       "692   $313,862.50    $354,480.00    $(40,617.50)  01-11-2013            11   \n",
       "694     $4,981.00      $2,930.00      $2,051.00   01-12-2014            12   \n",
       "695   $631,125.00    $618,750.00     $12,375.00   01-03-2014             3   \n",
       "698     $4,301.85      $3,615.00        $686.85   01-04-2014             4   \n",
       "\n",
       "     Month Name   Year  \n",
       "0       January   2014  \n",
       "2          June   2014  \n",
       "7          June   2014  \n",
       "8          June   2014  \n",
       "11         July   2014  \n",
       "..           ...   ...  \n",
       "688        July   2014  \n",
       "692    November   2013  \n",
       "694    December   2014  \n",
       "695       March   2014  \n",
       "698       April   2014  \n",
       "\n",
       "[280 rows x 16 columns]"
      ]
     },
     "execution_count": 10,
     "metadata": {},
     "output_type": "execute_result"
    }
   ],
   "source": [
    "import pandas as pd \n",
    "import numpy as np\n",
    "df=pd.DataFrame(pd.read_csv(\"C:\\\\D_Drive\\\\Raj Folder\\\\fs.csv\"))\n",
    "country=[\"Canada\",\"France\"]\n",
    "newdf=df[~df[\"Country\"].isin(country)]\n",
    "newdf1=df.loc[df[\"Country\"].isin(country)]\n",
    "newdf1"
   ]
  },
  {
   "cell_type": "code",
   "execution_count": null,
   "id": "63b99238",
   "metadata": {},
   "outputs": [],
   "source": [
    "d[\"profit%\"]=(d['selling Price']-d['Actual Price'])/d['Selling Price']"
   ]
  },
  {
   "cell_type": "code",
   "execution_count": 6,
   "id": "70232d21",
   "metadata": {},
   "outputs": [
    {
     "data": {
      "text/plain": [
       "['anagrams',\n",
       " 'anscombe',\n",
       " 'attention',\n",
       " 'brain_networks',\n",
       " 'car_crashes',\n",
       " 'diamonds',\n",
       " 'dots',\n",
       " 'dowjones',\n",
       " 'exercise',\n",
       " 'flights',\n",
       " 'fmri',\n",
       " 'geyser',\n",
       " 'glue',\n",
       " 'healthexp',\n",
       " 'iris',\n",
       " 'mpg',\n",
       " 'penguins',\n",
       " 'planets',\n",
       " 'seaice',\n",
       " 'taxis',\n",
       " 'tips',\n",
       " 'titanic']"
      ]
     },
     "execution_count": 6,
     "metadata": {},
     "output_type": "execute_result"
    }
   ],
   "source": [
    "import seaborn as sns\n",
    "x=sns.get_dataset_names()\n",
    "x"
   ]
  },
  {
   "cell_type": "code",
   "execution_count": 8,
   "id": "ff89822a",
   "metadata": {},
   "outputs": [
    {
     "data": {
      "text/html": [
       "<div>\n",
       "<style scoped>\n",
       "    .dataframe tbody tr th:only-of-type {\n",
       "        vertical-align: middle;\n",
       "    }\n",
       "\n",
       "    .dataframe tbody tr th {\n",
       "        vertical-align: top;\n",
       "    }\n",
       "\n",
       "    .dataframe thead th {\n",
       "        text-align: right;\n",
       "    }\n",
       "</style>\n",
       "<table border=\"1\" class=\"dataframe\">\n",
       "  <thead>\n",
       "    <tr style=\"text-align: right;\">\n",
       "      <th></th>\n",
       "      <th>pickup</th>\n",
       "      <th>dropoff</th>\n",
       "      <th>passengers</th>\n",
       "      <th>distance</th>\n",
       "      <th>fare</th>\n",
       "      <th>tip</th>\n",
       "      <th>tolls</th>\n",
       "      <th>total</th>\n",
       "      <th>color</th>\n",
       "      <th>payment</th>\n",
       "      <th>pickup_zone</th>\n",
       "      <th>dropoff_zone</th>\n",
       "      <th>pickup_borough</th>\n",
       "      <th>dropoff_borough</th>\n",
       "    </tr>\n",
       "  </thead>\n",
       "  <tbody>\n",
       "    <tr>\n",
       "      <th>0</th>\n",
       "      <td>2019-03-23 20:21:09</td>\n",
       "      <td>2019-03-23 20:27:24</td>\n",
       "      <td>1</td>\n",
       "      <td>1.60</td>\n",
       "      <td>7.0</td>\n",
       "      <td>2.15</td>\n",
       "      <td>0.0</td>\n",
       "      <td>12.95</td>\n",
       "      <td>yellow</td>\n",
       "      <td>credit card</td>\n",
       "      <td>Lenox Hill West</td>\n",
       "      <td>UN/Turtle Bay South</td>\n",
       "      <td>Manhattan</td>\n",
       "      <td>Manhattan</td>\n",
       "    </tr>\n",
       "    <tr>\n",
       "      <th>1</th>\n",
       "      <td>2019-03-04 16:11:55</td>\n",
       "      <td>2019-03-04 16:19:00</td>\n",
       "      <td>1</td>\n",
       "      <td>0.79</td>\n",
       "      <td>5.0</td>\n",
       "      <td>0.00</td>\n",
       "      <td>0.0</td>\n",
       "      <td>9.30</td>\n",
       "      <td>yellow</td>\n",
       "      <td>cash</td>\n",
       "      <td>Upper West Side South</td>\n",
       "      <td>Upper West Side South</td>\n",
       "      <td>Manhattan</td>\n",
       "      <td>Manhattan</td>\n",
       "    </tr>\n",
       "    <tr>\n",
       "      <th>2</th>\n",
       "      <td>2019-03-27 17:53:01</td>\n",
       "      <td>2019-03-27 18:00:25</td>\n",
       "      <td>1</td>\n",
       "      <td>1.37</td>\n",
       "      <td>7.5</td>\n",
       "      <td>2.36</td>\n",
       "      <td>0.0</td>\n",
       "      <td>14.16</td>\n",
       "      <td>yellow</td>\n",
       "      <td>credit card</td>\n",
       "      <td>Alphabet City</td>\n",
       "      <td>West Village</td>\n",
       "      <td>Manhattan</td>\n",
       "      <td>Manhattan</td>\n",
       "    </tr>\n",
       "    <tr>\n",
       "      <th>3</th>\n",
       "      <td>2019-03-10 01:23:59</td>\n",
       "      <td>2019-03-10 01:49:51</td>\n",
       "      <td>1</td>\n",
       "      <td>7.70</td>\n",
       "      <td>27.0</td>\n",
       "      <td>6.15</td>\n",
       "      <td>0.0</td>\n",
       "      <td>36.95</td>\n",
       "      <td>yellow</td>\n",
       "      <td>credit card</td>\n",
       "      <td>Hudson Sq</td>\n",
       "      <td>Yorkville West</td>\n",
       "      <td>Manhattan</td>\n",
       "      <td>Manhattan</td>\n",
       "    </tr>\n",
       "    <tr>\n",
       "      <th>4</th>\n",
       "      <td>2019-03-30 13:27:42</td>\n",
       "      <td>2019-03-30 13:37:14</td>\n",
       "      <td>3</td>\n",
       "      <td>2.16</td>\n",
       "      <td>9.0</td>\n",
       "      <td>1.10</td>\n",
       "      <td>0.0</td>\n",
       "      <td>13.40</td>\n",
       "      <td>yellow</td>\n",
       "      <td>credit card</td>\n",
       "      <td>Midtown East</td>\n",
       "      <td>Yorkville West</td>\n",
       "      <td>Manhattan</td>\n",
       "      <td>Manhattan</td>\n",
       "    </tr>\n",
       "    <tr>\n",
       "      <th>...</th>\n",
       "      <td>...</td>\n",
       "      <td>...</td>\n",
       "      <td>...</td>\n",
       "      <td>...</td>\n",
       "      <td>...</td>\n",
       "      <td>...</td>\n",
       "      <td>...</td>\n",
       "      <td>...</td>\n",
       "      <td>...</td>\n",
       "      <td>...</td>\n",
       "      <td>...</td>\n",
       "      <td>...</td>\n",
       "      <td>...</td>\n",
       "      <td>...</td>\n",
       "    </tr>\n",
       "    <tr>\n",
       "      <th>6428</th>\n",
       "      <td>2019-03-31 09:51:53</td>\n",
       "      <td>2019-03-31 09:55:27</td>\n",
       "      <td>1</td>\n",
       "      <td>0.75</td>\n",
       "      <td>4.5</td>\n",
       "      <td>1.06</td>\n",
       "      <td>0.0</td>\n",
       "      <td>6.36</td>\n",
       "      <td>green</td>\n",
       "      <td>credit card</td>\n",
       "      <td>East Harlem North</td>\n",
       "      <td>Central Harlem North</td>\n",
       "      <td>Manhattan</td>\n",
       "      <td>Manhattan</td>\n",
       "    </tr>\n",
       "    <tr>\n",
       "      <th>6429</th>\n",
       "      <td>2019-03-31 17:38:00</td>\n",
       "      <td>2019-03-31 18:34:23</td>\n",
       "      <td>1</td>\n",
       "      <td>18.74</td>\n",
       "      <td>58.0</td>\n",
       "      <td>0.00</td>\n",
       "      <td>0.0</td>\n",
       "      <td>58.80</td>\n",
       "      <td>green</td>\n",
       "      <td>credit card</td>\n",
       "      <td>Jamaica</td>\n",
       "      <td>East Concourse/Concourse Village</td>\n",
       "      <td>Queens</td>\n",
       "      <td>Bronx</td>\n",
       "    </tr>\n",
       "    <tr>\n",
       "      <th>6430</th>\n",
       "      <td>2019-03-23 22:55:18</td>\n",
       "      <td>2019-03-23 23:14:25</td>\n",
       "      <td>1</td>\n",
       "      <td>4.14</td>\n",
       "      <td>16.0</td>\n",
       "      <td>0.00</td>\n",
       "      <td>0.0</td>\n",
       "      <td>17.30</td>\n",
       "      <td>green</td>\n",
       "      <td>cash</td>\n",
       "      <td>Crown Heights North</td>\n",
       "      <td>Bushwick North</td>\n",
       "      <td>Brooklyn</td>\n",
       "      <td>Brooklyn</td>\n",
       "    </tr>\n",
       "    <tr>\n",
       "      <th>6431</th>\n",
       "      <td>2019-03-04 10:09:25</td>\n",
       "      <td>2019-03-04 10:14:29</td>\n",
       "      <td>1</td>\n",
       "      <td>1.12</td>\n",
       "      <td>6.0</td>\n",
       "      <td>0.00</td>\n",
       "      <td>0.0</td>\n",
       "      <td>6.80</td>\n",
       "      <td>green</td>\n",
       "      <td>credit card</td>\n",
       "      <td>East New York</td>\n",
       "      <td>East Flatbush/Remsen Village</td>\n",
       "      <td>Brooklyn</td>\n",
       "      <td>Brooklyn</td>\n",
       "    </tr>\n",
       "    <tr>\n",
       "      <th>6432</th>\n",
       "      <td>2019-03-13 19:31:22</td>\n",
       "      <td>2019-03-13 19:48:02</td>\n",
       "      <td>1</td>\n",
       "      <td>3.85</td>\n",
       "      <td>15.0</td>\n",
       "      <td>3.36</td>\n",
       "      <td>0.0</td>\n",
       "      <td>20.16</td>\n",
       "      <td>green</td>\n",
       "      <td>credit card</td>\n",
       "      <td>Boerum Hill</td>\n",
       "      <td>Windsor Terrace</td>\n",
       "      <td>Brooklyn</td>\n",
       "      <td>Brooklyn</td>\n",
       "    </tr>\n",
       "  </tbody>\n",
       "</table>\n",
       "<p>6433 rows × 14 columns</p>\n",
       "</div>"
      ],
      "text/plain": [
       "                   pickup              dropoff  passengers  distance  fare  \\\n",
       "0     2019-03-23 20:21:09  2019-03-23 20:27:24           1      1.60   7.0   \n",
       "1     2019-03-04 16:11:55  2019-03-04 16:19:00           1      0.79   5.0   \n",
       "2     2019-03-27 17:53:01  2019-03-27 18:00:25           1      1.37   7.5   \n",
       "3     2019-03-10 01:23:59  2019-03-10 01:49:51           1      7.70  27.0   \n",
       "4     2019-03-30 13:27:42  2019-03-30 13:37:14           3      2.16   9.0   \n",
       "...                   ...                  ...         ...       ...   ...   \n",
       "6428  2019-03-31 09:51:53  2019-03-31 09:55:27           1      0.75   4.5   \n",
       "6429  2019-03-31 17:38:00  2019-03-31 18:34:23           1     18.74  58.0   \n",
       "6430  2019-03-23 22:55:18  2019-03-23 23:14:25           1      4.14  16.0   \n",
       "6431  2019-03-04 10:09:25  2019-03-04 10:14:29           1      1.12   6.0   \n",
       "6432  2019-03-13 19:31:22  2019-03-13 19:48:02           1      3.85  15.0   \n",
       "\n",
       "       tip  tolls  total   color      payment            pickup_zone  \\\n",
       "0     2.15    0.0  12.95  yellow  credit card        Lenox Hill West   \n",
       "1     0.00    0.0   9.30  yellow         cash  Upper West Side South   \n",
       "2     2.36    0.0  14.16  yellow  credit card          Alphabet City   \n",
       "3     6.15    0.0  36.95  yellow  credit card              Hudson Sq   \n",
       "4     1.10    0.0  13.40  yellow  credit card           Midtown East   \n",
       "...    ...    ...    ...     ...          ...                    ...   \n",
       "6428  1.06    0.0   6.36   green  credit card      East Harlem North   \n",
       "6429  0.00    0.0  58.80   green  credit card                Jamaica   \n",
       "6430  0.00    0.0  17.30   green         cash    Crown Heights North   \n",
       "6431  0.00    0.0   6.80   green  credit card          East New York   \n",
       "6432  3.36    0.0  20.16   green  credit card            Boerum Hill   \n",
       "\n",
       "                          dropoff_zone pickup_borough dropoff_borough  \n",
       "0                  UN/Turtle Bay South      Manhattan       Manhattan  \n",
       "1                Upper West Side South      Manhattan       Manhattan  \n",
       "2                         West Village      Manhattan       Manhattan  \n",
       "3                       Yorkville West      Manhattan       Manhattan  \n",
       "4                       Yorkville West      Manhattan       Manhattan  \n",
       "...                                ...            ...             ...  \n",
       "6428              Central Harlem North      Manhattan       Manhattan  \n",
       "6429  East Concourse/Concourse Village         Queens           Bronx  \n",
       "6430                    Bushwick North       Brooklyn        Brooklyn  \n",
       "6431      East Flatbush/Remsen Village       Brooklyn        Brooklyn  \n",
       "6432                   Windsor Terrace       Brooklyn        Brooklyn  \n",
       "\n",
       "[6433 rows x 14 columns]"
      ]
     },
     "execution_count": 8,
     "metadata": {},
     "output_type": "execute_result"
    }
   ],
   "source": [
    "data=sns.load_dataset(\"taxis\")\n",
    "data"
   ]
  },
  {
   "cell_type": "code",
   "execution_count": 13,
   "id": "9d31048b",
   "metadata": {},
   "outputs": [
    {
     "data": {
      "text/plain": [
       "Index(['pickup', 'dropoff', 'passengers', 'distance', 'fare', 'tip', 'tolls',\n",
       "       'total', 'color', 'payment', 'pickup_zone', 'dropoff_zone',\n",
       "       'pickup_borough', 'dropoff_borough'],\n",
       "      dtype='object')"
      ]
     },
     "execution_count": 13,
     "metadata": {},
     "output_type": "execute_result"
    }
   ],
   "source": [
    "import pandas as pd \n",
    "df=pd.DataFrame(data)\n",
    "df.head()\n",
    "df.columns"
   ]
  },
  {
   "cell_type": "code",
   "execution_count": 14,
   "id": "197b679d",
   "metadata": {},
   "outputs": [
    {
     "data": {
      "text/html": [
       "<div>\n",
       "<style scoped>\n",
       "    .dataframe tbody tr th:only-of-type {\n",
       "        vertical-align: middle;\n",
       "    }\n",
       "\n",
       "    .dataframe tbody tr th {\n",
       "        vertical-align: top;\n",
       "    }\n",
       "\n",
       "    .dataframe thead th {\n",
       "        text-align: right;\n",
       "    }\n",
       "</style>\n",
       "<table border=\"1\" class=\"dataframe\">\n",
       "  <thead>\n",
       "    <tr style=\"text-align: right;\">\n",
       "      <th></th>\n",
       "      <th>pickup</th>\n",
       "      <th>dropoff</th>\n",
       "      <th>passengers</th>\n",
       "      <th>distance</th>\n",
       "      <th>fare</th>\n",
       "      <th>tip</th>\n",
       "      <th>tolls</th>\n",
       "      <th>total</th>\n",
       "      <th>color</th>\n",
       "      <th>payment</th>\n",
       "      <th>pickup_zone</th>\n",
       "      <th>dropoff_zone</th>\n",
       "      <th>pickup_borough</th>\n",
       "      <th>dropoff_borough</th>\n",
       "    </tr>\n",
       "  </thead>\n",
       "  <tbody>\n",
       "    <tr>\n",
       "      <th>0</th>\n",
       "      <td>2019-03-23 20:21:09</td>\n",
       "      <td>2019-03-23 20:27:24</td>\n",
       "      <td>1</td>\n",
       "      <td>1.60</td>\n",
       "      <td>7.0</td>\n",
       "      <td>2.15</td>\n",
       "      <td>0.0</td>\n",
       "      <td>12.95</td>\n",
       "      <td>yellow</td>\n",
       "      <td>credit card</td>\n",
       "      <td>Lenox Hill West</td>\n",
       "      <td>UN/Turtle Bay South</td>\n",
       "      <td>Manhattan</td>\n",
       "      <td>Manhattan</td>\n",
       "    </tr>\n",
       "    <tr>\n",
       "      <th>1</th>\n",
       "      <td>2019-03-04 16:11:55</td>\n",
       "      <td>2019-03-04 16:19:00</td>\n",
       "      <td>1</td>\n",
       "      <td>0.79</td>\n",
       "      <td>5.0</td>\n",
       "      <td>0.00</td>\n",
       "      <td>0.0</td>\n",
       "      <td>9.30</td>\n",
       "      <td>yellow</td>\n",
       "      <td>cash</td>\n",
       "      <td>Upper West Side South</td>\n",
       "      <td>Upper West Side South</td>\n",
       "      <td>Manhattan</td>\n",
       "      <td>Manhattan</td>\n",
       "    </tr>\n",
       "    <tr>\n",
       "      <th>2</th>\n",
       "      <td>2019-03-27 17:53:01</td>\n",
       "      <td>2019-03-27 18:00:25</td>\n",
       "      <td>1</td>\n",
       "      <td>1.37</td>\n",
       "      <td>7.5</td>\n",
       "      <td>2.36</td>\n",
       "      <td>0.0</td>\n",
       "      <td>14.16</td>\n",
       "      <td>yellow</td>\n",
       "      <td>credit card</td>\n",
       "      <td>Alphabet City</td>\n",
       "      <td>West Village</td>\n",
       "      <td>Manhattan</td>\n",
       "      <td>Manhattan</td>\n",
       "    </tr>\n",
       "    <tr>\n",
       "      <th>3</th>\n",
       "      <td>2019-03-10 01:23:59</td>\n",
       "      <td>2019-03-10 01:49:51</td>\n",
       "      <td>1</td>\n",
       "      <td>7.70</td>\n",
       "      <td>27.0</td>\n",
       "      <td>6.15</td>\n",
       "      <td>0.0</td>\n",
       "      <td>36.95</td>\n",
       "      <td>yellow</td>\n",
       "      <td>credit card</td>\n",
       "      <td>Hudson Sq</td>\n",
       "      <td>Yorkville West</td>\n",
       "      <td>Manhattan</td>\n",
       "      <td>Manhattan</td>\n",
       "    </tr>\n",
       "    <tr>\n",
       "      <th>4</th>\n",
       "      <td>2019-03-30 13:27:42</td>\n",
       "      <td>2019-03-30 13:37:14</td>\n",
       "      <td>3</td>\n",
       "      <td>2.16</td>\n",
       "      <td>9.0</td>\n",
       "      <td>1.10</td>\n",
       "      <td>0.0</td>\n",
       "      <td>13.40</td>\n",
       "      <td>yellow</td>\n",
       "      <td>credit card</td>\n",
       "      <td>Midtown East</td>\n",
       "      <td>Yorkville West</td>\n",
       "      <td>Manhattan</td>\n",
       "      <td>Manhattan</td>\n",
       "    </tr>\n",
       "  </tbody>\n",
       "</table>\n",
       "</div>"
      ],
      "text/plain": [
       "                pickup              dropoff  passengers  distance  fare   tip  \\\n",
       "0  2019-03-23 20:21:09  2019-03-23 20:27:24           1      1.60   7.0  2.15   \n",
       "1  2019-03-04 16:11:55  2019-03-04 16:19:00           1      0.79   5.0  0.00   \n",
       "2  2019-03-27 17:53:01  2019-03-27 18:00:25           1      1.37   7.5  2.36   \n",
       "3  2019-03-10 01:23:59  2019-03-10 01:49:51           1      7.70  27.0  6.15   \n",
       "4  2019-03-30 13:27:42  2019-03-30 13:37:14           3      2.16   9.0  1.10   \n",
       "\n",
       "   tolls  total   color      payment            pickup_zone  \\\n",
       "0    0.0  12.95  yellow  credit card        Lenox Hill West   \n",
       "1    0.0   9.30  yellow         cash  Upper West Side South   \n",
       "2    0.0  14.16  yellow  credit card          Alphabet City   \n",
       "3    0.0  36.95  yellow  credit card              Hudson Sq   \n",
       "4    0.0  13.40  yellow  credit card           Midtown East   \n",
       "\n",
       "            dropoff_zone pickup_borough dropoff_borough  \n",
       "0    UN/Turtle Bay South      Manhattan       Manhattan  \n",
       "1  Upper West Side South      Manhattan       Manhattan  \n",
       "2           West Village      Manhattan       Manhattan  \n",
       "3         Yorkville West      Manhattan       Manhattan  \n",
       "4         Yorkville West      Manhattan       Manhattan  "
      ]
     },
     "execution_count": 14,
     "metadata": {},
     "output_type": "execute_result"
    }
   ],
   "source": [
    "df.head()"
   ]
  },
  {
   "cell_type": "code",
   "execution_count": 33,
   "id": "c47cc85c",
   "metadata": {},
   "outputs": [
    {
     "data": {
      "text/html": [
       "<div>\n",
       "<style scoped>\n",
       "    .dataframe tbody tr th:only-of-type {\n",
       "        vertical-align: middle;\n",
       "    }\n",
       "\n",
       "    .dataframe tbody tr th {\n",
       "        vertical-align: top;\n",
       "    }\n",
       "\n",
       "    .dataframe thead th {\n",
       "        text-align: right;\n",
       "    }\n",
       "</style>\n",
       "<table border=\"1\" class=\"dataframe\">\n",
       "  <thead>\n",
       "    <tr style=\"text-align: right;\">\n",
       "      <th></th>\n",
       "      <th>year</th>\n",
       "      <th>month</th>\n",
       "      <th>passengers</th>\n",
       "    </tr>\n",
       "  </thead>\n",
       "  <tbody>\n",
       "    <tr>\n",
       "      <th>0</th>\n",
       "      <td>1949</td>\n",
       "      <td>Jan</td>\n",
       "      <td>112</td>\n",
       "    </tr>\n",
       "    <tr>\n",
       "      <th>1</th>\n",
       "      <td>1949</td>\n",
       "      <td>Feb</td>\n",
       "      <td>118</td>\n",
       "    </tr>\n",
       "    <tr>\n",
       "      <th>2</th>\n",
       "      <td>1949</td>\n",
       "      <td>Mar</td>\n",
       "      <td>132</td>\n",
       "    </tr>\n",
       "    <tr>\n",
       "      <th>3</th>\n",
       "      <td>1949</td>\n",
       "      <td>Apr</td>\n",
       "      <td>129</td>\n",
       "    </tr>\n",
       "    <tr>\n",
       "      <th>4</th>\n",
       "      <td>1949</td>\n",
       "      <td>May</td>\n",
       "      <td>121</td>\n",
       "    </tr>\n",
       "    <tr>\n",
       "      <th>...</th>\n",
       "      <td>...</td>\n",
       "      <td>...</td>\n",
       "      <td>...</td>\n",
       "    </tr>\n",
       "    <tr>\n",
       "      <th>139</th>\n",
       "      <td>1960</td>\n",
       "      <td>Aug</td>\n",
       "      <td>606</td>\n",
       "    </tr>\n",
       "    <tr>\n",
       "      <th>140</th>\n",
       "      <td>1960</td>\n",
       "      <td>Sep</td>\n",
       "      <td>508</td>\n",
       "    </tr>\n",
       "    <tr>\n",
       "      <th>141</th>\n",
       "      <td>1960</td>\n",
       "      <td>Oct</td>\n",
       "      <td>461</td>\n",
       "    </tr>\n",
       "    <tr>\n",
       "      <th>142</th>\n",
       "      <td>1960</td>\n",
       "      <td>Nov</td>\n",
       "      <td>390</td>\n",
       "    </tr>\n",
       "    <tr>\n",
       "      <th>143</th>\n",
       "      <td>1960</td>\n",
       "      <td>Dec</td>\n",
       "      <td>432</td>\n",
       "    </tr>\n",
       "  </tbody>\n",
       "</table>\n",
       "<p>144 rows × 3 columns</p>\n",
       "</div>"
      ],
      "text/plain": [
       "     year month  passengers\n",
       "0    1949   Jan         112\n",
       "1    1949   Feb         118\n",
       "2    1949   Mar         132\n",
       "3    1949   Apr         129\n",
       "4    1949   May         121\n",
       "..    ...   ...         ...\n",
       "139  1960   Aug         606\n",
       "140  1960   Sep         508\n",
       "141  1960   Oct         461\n",
       "142  1960   Nov         390\n",
       "143  1960   Dec         432\n",
       "\n",
       "[144 rows x 3 columns]"
      ]
     },
     "execution_count": 33,
     "metadata": {},
     "output_type": "execute_result"
    }
   ],
   "source": [
    "df=pd.DataFrame(sns.load_dataset(\"flights\"))\n",
    "df"
   ]
  },
  {
   "cell_type": "code",
   "execution_count": 27,
   "id": "9df17ff6",
   "metadata": {},
   "outputs": [
    {
     "data": {
      "text/plain": [
       "<pandas.core.groupby.generic.DataFrameGroupBy object at 0x0000018EE02EBFA0>"
      ]
     },
     "execution_count": 27,
     "metadata": {},
     "output_type": "execute_result"
    }
   ],
   "source": [
    "yr_ps=df.groupby(\"year\")\n",
    "yr_ps"
   ]
  },
  {
   "cell_type": "code",
   "execution_count": 30,
   "id": "9c766e88",
   "metadata": {},
   "outputs": [
    {
     "data": {
      "text/html": [
       "<div>\n",
       "<style scoped>\n",
       "    .dataframe tbody tr th:only-of-type {\n",
       "        vertical-align: middle;\n",
       "    }\n",
       "\n",
       "    .dataframe tbody tr th {\n",
       "        vertical-align: top;\n",
       "    }\n",
       "\n",
       "    .dataframe thead th {\n",
       "        text-align: right;\n",
       "    }\n",
       "</style>\n",
       "<table border=\"1\" class=\"dataframe\">\n",
       "  <thead>\n",
       "    <tr style=\"text-align: right;\">\n",
       "      <th></th>\n",
       "      <th>passengers</th>\n",
       "    </tr>\n",
       "    <tr>\n",
       "      <th>year</th>\n",
       "      <th></th>\n",
       "    </tr>\n",
       "  </thead>\n",
       "  <tbody>\n",
       "    <tr>\n",
       "      <th>1949</th>\n",
       "      <td>1520</td>\n",
       "    </tr>\n",
       "    <tr>\n",
       "      <th>1950</th>\n",
       "      <td>1676</td>\n",
       "    </tr>\n",
       "    <tr>\n",
       "      <th>1951</th>\n",
       "      <td>2042</td>\n",
       "    </tr>\n",
       "    <tr>\n",
       "      <th>1952</th>\n",
       "      <td>2364</td>\n",
       "    </tr>\n",
       "    <tr>\n",
       "      <th>1953</th>\n",
       "      <td>2700</td>\n",
       "    </tr>\n",
       "    <tr>\n",
       "      <th>1954</th>\n",
       "      <td>2867</td>\n",
       "    </tr>\n",
       "    <tr>\n",
       "      <th>1955</th>\n",
       "      <td>3408</td>\n",
       "    </tr>\n",
       "    <tr>\n",
       "      <th>1956</th>\n",
       "      <td>3939</td>\n",
       "    </tr>\n",
       "    <tr>\n",
       "      <th>1957</th>\n",
       "      <td>4421</td>\n",
       "    </tr>\n",
       "    <tr>\n",
       "      <th>1958</th>\n",
       "      <td>4572</td>\n",
       "    </tr>\n",
       "    <tr>\n",
       "      <th>1959</th>\n",
       "      <td>5140</td>\n",
       "    </tr>\n",
       "    <tr>\n",
       "      <th>1960</th>\n",
       "      <td>5714</td>\n",
       "    </tr>\n",
       "  </tbody>\n",
       "</table>\n",
       "</div>"
      ],
      "text/plain": [
       "      passengers\n",
       "year            \n",
       "1949        1520\n",
       "1950        1676\n",
       "1951        2042\n",
       "1952        2364\n",
       "1953        2700\n",
       "1954        2867\n",
       "1955        3408\n",
       "1956        3939\n",
       "1957        4421\n",
       "1958        4572\n",
       "1959        5140\n",
       "1960        5714"
      ]
     },
     "execution_count": 30,
     "metadata": {},
     "output_type": "execute_result"
    }
   ],
   "source": [
    "yr_ps.sum()"
   ]
  },
  {
   "cell_type": "code",
   "execution_count": 35,
   "id": "2b24cddb",
   "metadata": {},
   "outputs": [
    {
     "data": {
      "text/html": [
       "<div>\n",
       "<style scoped>\n",
       "    .dataframe tbody tr th:only-of-type {\n",
       "        vertical-align: middle;\n",
       "    }\n",
       "\n",
       "    .dataframe tbody tr th {\n",
       "        vertical-align: top;\n",
       "    }\n",
       "\n",
       "    .dataframe thead th {\n",
       "        text-align: right;\n",
       "    }\n",
       "</style>\n",
       "<table border=\"1\" class=\"dataframe\">\n",
       "  <thead>\n",
       "    <tr style=\"text-align: right;\">\n",
       "      <th></th>\n",
       "      <th>month</th>\n",
       "      <th>passengers</th>\n",
       "    </tr>\n",
       "    <tr>\n",
       "      <th>year</th>\n",
       "      <th></th>\n",
       "      <th></th>\n",
       "    </tr>\n",
       "  </thead>\n",
       "  <tbody>\n",
       "    <tr>\n",
       "      <th>1949</th>\n",
       "      <td>12</td>\n",
       "      <td>12</td>\n",
       "    </tr>\n",
       "    <tr>\n",
       "      <th>1950</th>\n",
       "      <td>12</td>\n",
       "      <td>12</td>\n",
       "    </tr>\n",
       "    <tr>\n",
       "      <th>1951</th>\n",
       "      <td>12</td>\n",
       "      <td>12</td>\n",
       "    </tr>\n",
       "    <tr>\n",
       "      <th>1952</th>\n",
       "      <td>12</td>\n",
       "      <td>12</td>\n",
       "    </tr>\n",
       "    <tr>\n",
       "      <th>1953</th>\n",
       "      <td>12</td>\n",
       "      <td>12</td>\n",
       "    </tr>\n",
       "    <tr>\n",
       "      <th>1954</th>\n",
       "      <td>12</td>\n",
       "      <td>12</td>\n",
       "    </tr>\n",
       "    <tr>\n",
       "      <th>1955</th>\n",
       "      <td>12</td>\n",
       "      <td>12</td>\n",
       "    </tr>\n",
       "    <tr>\n",
       "      <th>1956</th>\n",
       "      <td>12</td>\n",
       "      <td>12</td>\n",
       "    </tr>\n",
       "    <tr>\n",
       "      <th>1957</th>\n",
       "      <td>12</td>\n",
       "      <td>12</td>\n",
       "    </tr>\n",
       "    <tr>\n",
       "      <th>1958</th>\n",
       "      <td>12</td>\n",
       "      <td>12</td>\n",
       "    </tr>\n",
       "    <tr>\n",
       "      <th>1959</th>\n",
       "      <td>12</td>\n",
       "      <td>12</td>\n",
       "    </tr>\n",
       "    <tr>\n",
       "      <th>1960</th>\n",
       "      <td>12</td>\n",
       "      <td>12</td>\n",
       "    </tr>\n",
       "  </tbody>\n",
       "</table>\n",
       "</div>"
      ],
      "text/plain": [
       "      month  passengers\n",
       "year                   \n",
       "1949     12          12\n",
       "1950     12          12\n",
       "1951     12          12\n",
       "1952     12          12\n",
       "1953     12          12\n",
       "1954     12          12\n",
       "1955     12          12\n",
       "1956     12          12\n",
       "1957     12          12\n",
       "1958     12          12\n",
       "1959     12          12\n",
       "1960     12          12"
      ]
     },
     "execution_count": 35,
     "metadata": {},
     "output_type": "execute_result"
    }
   ],
   "source": [
    "yr_ps.count()"
   ]
  },
  {
   "cell_type": "code",
   "execution_count": null,
   "id": "5e19d01d",
   "metadata": {},
   "outputs": [],
   "source": []
  }
 ],
 "metadata": {
  "kernelspec": {
   "display_name": "Python 3 (ipykernel)",
   "language": "python",
   "name": "python3"
  },
  "language_info": {
   "codemirror_mode": {
    "name": "ipython",
    "version": 3
   },
   "file_extension": ".py",
   "mimetype": "text/x-python",
   "name": "python",
   "nbconvert_exporter": "python",
   "pygments_lexer": "ipython3",
   "version": "3.9.13"
  }
 },
 "nbformat": 4,
 "nbformat_minor": 5
}
