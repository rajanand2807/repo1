{
 "cells": [
  {
   "cell_type": "code",
   "execution_count": 6,
   "id": "c43a4770",
   "metadata": {},
   "outputs": [],
   "source": [
    "class Person:\n",
    "    def __init__(self,fnm,lnm,mob):\n",
    "        self.First_Name=fnm\n",
    "        self.Last_Name=lnm\n",
    "        self.Mobile=mob\n",
    "    def __str__(self):\n",
    "        return f\"Person: {self.First_Name} {self.Last_Name}\"\n",
    "    def get_data(self):\n",
    "        print(self.First_Name)\n",
    "        print(self.Last_Name)\n",
    "        print(self.Mobile)"
   ]
  },
  {
   "cell_type": "code",
   "execution_count": 7,
   "id": "66b28fce",
   "metadata": {},
   "outputs": [
    {
     "name": "stdout",
     "output_type": "stream",
     "text": [
      "Person Raj Anand\n",
      "Raj\n",
      "Anand\n",
      "7073961077\n"
     ]
    }
   ],
   "source": [
    "p1=Person(\"Raj\",\"Anand\",7073961077)\n",
    "print(p1)\n",
    "p1.get_data()\n"
   ]
  },
  {
   "cell_type": "code",
   "execution_count": 27,
   "id": "8a806b9e",
   "metadata": {},
   "outputs": [],
   "source": [
    "class Test():\n",
    "    def __init__(self):\n",
    "        print(\"Address of self object\",self)"
   ]
  },
  {
   "cell_type": "code",
   "execution_count": 30,
   "id": "47024e6d",
   "metadata": {},
   "outputs": [
    {
     "name": "stdout",
     "output_type": "stream",
     "text": [
      "Address of self object <__main__.Test object at 0x0000023C35832FA0>\n",
      "Address of t object <__main__.Test object at 0x0000023C35832FA0>\n",
      "Address of self object <__main__.Test object at 0x0000023C35832FD0>\n",
      "Address of X object <__main__.Test object at 0x0000023C35832FD0>\n"
     ]
    }
   ],
   "source": [
    "t=Test()\n",
    "print(\"Address of t object\",t)\n",
    "x=Test()\n",
    "print(\"Address of X object\",x)"
   ]
  },
  {
   "cell_type": "code",
   "execution_count": null,
   "id": "d9a02a5a",
   "metadata": {},
   "outputs": [],
   "source": [
    "class Person():\n",
    "    "
   ]
  }
 ],
 "metadata": {
  "kernelspec": {
   "display_name": "Python 3 (ipykernel)",
   "language": "python",
   "name": "python3"
  },
  "language_info": {
   "codemirror_mode": {
    "name": "ipython",
    "version": 3
   },
   "file_extension": ".py",
   "mimetype": "text/x-python",
   "name": "python",
   "nbconvert_exporter": "python",
   "pygments_lexer": "ipython3",
   "version": "3.9.13"
  }
 },
 "nbformat": 4,
 "nbformat_minor": 5
}
